{
  "nbformat": 4,
  "nbformat_minor": 0,
  "metadata": {
    "colab": {
      "provenance": [],
      "authorship_tag": "ABX9TyPs+PDpRJZX1B/FbR9zdC72",
      "include_colab_link": true
    },
    "kernelspec": {
      "name": "python3",
      "display_name": "Python 3"
    },
    "language_info": {
      "name": "python"
    }
  },
  "cells": [
    {
      "cell_type": "markdown",
      "metadata": {
        "id": "view-in-github",
        "colab_type": "text"
      },
      "source": [
        "<a href=\"https://colab.research.google.com/github/ravidkrisi/Deep-Learning-Introduction/blob/main/Kaggle_data_to_Colab.ipynb\" target=\"_parent\"><img src=\"https://colab.research.google.com/assets/colab-badge.svg\" alt=\"Open In Colab\"/></a>"
      ]
    },
    {
      "cell_type": "markdown",
      "source": [
        "# Kaggle data to Colab"
      ],
      "metadata": {
        "id": "kFBrZrp-nsVx"
      }
    },
    {
      "cell_type": "markdown",
      "source": [],
      "metadata": {
        "id": "evTcEzBapBFE"
      }
    },
    {
      "cell_type": "markdown",
      "source": [
        "this notebook is a template to myself and everyone struggling how to import data from Kaggle to Colab."
      ],
      "metadata": {
        "id": "bIsiyufQn0z_"
      }
    },
    {
      "cell_type": "markdown",
      "source": [
        "## template to set up connection with Kaggle"
      ],
      "metadata": {
        "id": "I5PK9fD1oJW-"
      }
    },
    {
      "cell_type": "markdown",
      "source": [
        "first you need to download the API token from Kaggle and save it in you google drive:\n",
        "1. go yo your Kaggle accout and create a new token and then it suppose to download a json file.\n",
        "2. save the API token in your google drive\n",
        "3. you can find and copy the path by run the mount command below. it will give you an access to your google drive diretory in the folder tab on the left bar, search for the file and the right click on the file and select copy path."
      ],
      "metadata": {
        "id": "XYdDoftae0eE"
      }
    },
    {
      "cell_type": "code",
      "source": [
        "# Install the kaggle python library\n",
        "!pip install -q kaggle\n",
        "\n",
        "# Mount your Google Drive.\n",
        "from google.colab import drive\n",
        "drive.mount(\"/content/drive\")\n",
        "\n",
        "# create directory and add the API token\n",
        "! mkdir ~/.kaggle\n",
        "\n",
        "!cp /content/drive/MyDrive/'Colab Notebooks'/kaggle.json ~/.kaggle/\n",
        "! chmod 600 ~/.kaggle/kaggle.json\n",
        "\n",
        "#check if it worked\n",
        "! kaggle datasets list"
      ],
      "metadata": {
        "colab": {
          "base_uri": "https://localhost:8080/"
        },
        "id": "gZny3AwmoSRJ",
        "outputId": "9e2ddc81-678c-44f3-df9d-20db7dd1f0fa"
      },
      "execution_count": 36,
      "outputs": [
        {
          "output_type": "stream",
          "name": "stdout",
          "text": [
            "Drive already mounted at /content/drive; to attempt to forcibly remount, call drive.mount(\"/content/drive\", force_remount=True).\n",
            "mkdir: cannot create directory ‘/root/.kaggle’: File exists\n",
            "ref                                                                   title                                               size  lastUpdated          downloadCount  voteCount  usabilityRating  \n",
            "--------------------------------------------------------------------  -------------------------------------------------  -----  -------------------  -------------  ---------  ---------------  \n",
            "nelgiriyewithana/countries-of-the-world-2023                          Global Country Information Dataset 2023             23KB  2023-07-08 20:37:33          12411        502  1.0              \n",
            "nelgiriyewithana/global-youtube-statistics-2023                       Global YouTube Statistics 2023                      60KB  2023-07-28 15:36:38           4379        152  1.0              \n",
            "joebeachcapital/global-earth-temperatures                             Global Earth Temperatures                           33KB  2023-08-09 06:21:51            907         33  1.0              \n",
            "arnavsmayan/netflix-userbase-dataset                                  Netflix Userbase Dataset                            25KB  2023-07-04 07:38:41          13389        236  1.0              \n",
            "joebeachcapital/fast-food                                             Fast Food Nutrition                                 20KB  2023-08-09 01:35:51            995         36  1.0              \n",
            "anshtanwar/global-data-on-sustainable-energy                          Global Data on Sustainable Energy (2000-2020)      175KB  2023-08-07 11:58:00           3124         50  1.0              \n",
            "juhibhojani/house-price                                               House Price                                          7MB  2023-08-02 16:51:21           1769         57  0.9411765        \n",
            "alphiree/cardiovascular-diseases-risk-prediction-dataset              Cardiovascular Diseases Risk Prediction Dataset      5MB  2023-07-03 12:12:19           9481        313  1.0              \n",
            "joebeachcapital/marvel-movies                                         Marvel Superhero Movies                              2KB  2023-08-02 23:31:11            580         28  1.0              \n",
            "guillemservera/global-daily-climate-data                              Global Daily Weather Data                           42MB  2023-08-17 15:06:44            346         26  1.0              \n",
            "sivapriyagarladinne/telangana-post-monsoon-ground-water-quality-data  Water Quality Data [Telangana Groundwater]          79KB  2023-07-28 17:25:06            776         31  1.0              \n",
            "lasaljaywardena/age-dataset-2023                                      The Age Dataset 2023 - Global and General Purpose   39MB  2023-08-04 11:56:01            939         33  1.0              \n",
            "joebeachcapital/top-2000-companies-globally                           Top 2000 Companies Globally                         38KB  2023-07-31 01:06:07            768         33  1.0              \n",
            "joebeachcapital/gpa-and-iq                                            GPA & IQ                                            795B  2023-08-09 05:05:39            561         31  1.0              \n",
            "georgeggcoco/closeness-of-music-genres                                Spotify's top 3000 music genres - Network           17MB  2023-08-04 13:27:45            422         26  1.0              \n",
            "joebeachcapital/life-expectancy                                       Life Expectancy                                    149KB  2023-08-09 02:21:33            600         31  1.0              \n",
            "abhijitdahatonde/zomato-restaurants-dataset                           Zomato Restaurants Dataset                         181KB  2023-07-20 13:11:17           1564         47  1.0              \n",
            "ibrahimonmars/imdb-reviews-on-barbie                                  IMDB Reviews on Barbie                               5MB  2023-08-04 04:47:14            490         41  1.0              \n"
          ]
        }
      ]
    },
    {
      "cell_type": "markdown",
      "source": [
        "## download Kagle dataset"
      ],
      "metadata": {
        "id": "WlVqTnSdpKEs"
      }
    },
    {
      "cell_type": "markdown",
      "source": [
        "first we need to make sure we accepted competition for the dataset we want to download. then use the following code."
      ],
      "metadata": {
        "id": "LQBGw-NypNJB"
      }
    },
    {
      "cell_type": "markdown",
      "source": [
        "download the zip file for the dataset:"
      ],
      "metadata": {
        "id": "3tiv-BM9pa6i"
      }
    },
    {
      "cell_type": "code",
      "source": [
        "! kaggle competitions download titanic"
      ],
      "metadata": {
        "colab": {
          "base_uri": "https://localhost:8080/"
        },
        "id": "4NOZUpyPnbbo",
        "outputId": "c4e1dc57-3750-4c54-b8dd-385d4c394126"
      },
      "execution_count": 35,
      "outputs": [
        {
          "output_type": "stream",
          "name": "stdout",
          "text": [
            "Downloading titanic.zip to /content\n",
            "\r  0% 0.00/34.1k [00:00<?, ?B/s]\n",
            "\r100% 34.1k/34.1k [00:00<00:00, 84.1MB/s]\n"
          ]
        }
      ]
    },
    {
      "cell_type": "markdown",
      "source": [
        "unzip the zip file we downloaded:"
      ],
      "metadata": {
        "id": "7JjiivHNpext"
      }
    },
    {
      "cell_type": "code",
      "source": [
        "! unzip titanic.zip"
      ],
      "metadata": {
        "colab": {
          "base_uri": "https://localhost:8080/"
        },
        "id": "BC9iwHCEpkJu",
        "outputId": "a3d0b1bb-57a2-4b9f-8c9f-d038a9945b2e"
      },
      "execution_count": 37,
      "outputs": [
        {
          "output_type": "stream",
          "name": "stdout",
          "text": [
            "Archive:  titanic.zip\n",
            "  inflating: gender_submission.csv   \n",
            "  inflating: test.csv                \n",
            "  inflating: train.csv               \n"
          ]
        }
      ]
    },
    {
      "cell_type": "markdown",
      "source": [
        "if we want to download a specific file we can use:"
      ],
      "metadata": {
        "id": "L-AjMjvrprYJ"
      }
    },
    {
      "cell_type": "code",
      "source": [
        "! kaggle competitions download digit-recognizer -f train.csv"
      ],
      "metadata": {
        "colab": {
          "base_uri": "https://localhost:8080/"
        },
        "id": "Pp3ddHexpwmI",
        "outputId": "8452a601-31e1-4964-8471-03ac99fdefba"
      },
      "execution_count": 38,
      "outputs": [
        {
          "output_type": "stream",
          "name": "stdout",
          "text": [
            "Downloading train.csv.zip to /content\n",
            "\r  0% 0.00/9.16M [00:00<?, ?B/s]\r 87% 8.00M/9.16M [00:00<00:00, 81.2MB/s]\n",
            "\r100% 9.16M/9.16M [00:00<00:00, 89.1MB/s]\n"
          ]
        }
      ]
    },
    {
      "cell_type": "markdown",
      "source": [
        "download datasets that are not part of competition:"
      ],
      "metadata": {
        "id": "gdXYKpvQqKEH"
      }
    },
    {
      "cell_type": "code",
      "source": [
        "! kaggle datasets download johnsmith88/heart-disease-dataset"
      ],
      "metadata": {
        "colab": {
          "base_uri": "https://localhost:8080/"
        },
        "id": "0jah2AOFp9Vh",
        "outputId": "900bc094-02c3-4671-b1b1-e6402a1fd75c"
      },
      "execution_count": 39,
      "outputs": [
        {
          "output_type": "stream",
          "name": "stdout",
          "text": [
            "Downloading heart-disease-dataset.zip to /content\n",
            "\r  0% 0.00/6.18k [00:00<?, ?B/s]\n",
            "\r100% 6.18k/6.18k [00:00<00:00, 23.1MB/s]\n"
          ]
        }
      ]
    }
  ]
}