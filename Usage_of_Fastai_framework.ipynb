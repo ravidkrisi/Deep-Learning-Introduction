{
  "nbformat": 4,
  "nbformat_minor": 0,
  "metadata": {
    "colab": {
      "provenance": [],
      "authorship_tag": "ABX9TyMAfAif/TdAakErIngycJ1F",
      "include_colab_link": true
    },
    "kernelspec": {
      "name": "python3",
      "display_name": "Python 3"
    },
    "language_info": {
      "name": "python"
    }
  },
  "cells": [
    {
      "cell_type": "markdown",
      "metadata": {
        "id": "view-in-github",
        "colab_type": "text"
      },
      "source": [
        "<a href=\"https://colab.research.google.com/github/ravidkrisi/Deep-Learning-Introduction/blob/main/Usage_of_Fastai_framework.ipynb\" target=\"_parent\"><img src=\"https://colab.research.google.com/assets/colab-badge.svg\" alt=\"Open In Colab\"/></a>"
      ]
    },
    {
      "cell_type": "markdown",
      "source": [
        "# Usage of Framework"
      ],
      "metadata": {
        "id": "z1gLHpJvX09X"
      }
    },
    {
      "cell_type": "markdown",
      "source": [
        "in this notebook we will show the benefits in the usuage of predefined models from libraries like pyTorch and Fastai."
      ],
      "metadata": {
        "id": "sjMYtJNQYCwi"
      }
    },
    {
      "cell_type": "markdown",
      "source": [
        "## set up data"
      ],
      "metadata": {
        "id": "SzcUcjvlX9eE"
      }
    },
    {
      "cell_type": "markdown",
      "source": [
        "we will start by making the connection with Kaggle and import the `titanic` data.\n",
        "note: I have used the code from my previous notebook [kaggle data to colab](https://colab.research.google.com/drive/1U3Kz0flzxmoQAGN30GxwexgikXEx42t9):"
      ],
      "metadata": {
        "id": "Xoh3zxh4XUGp"
      }
    },
    {
      "cell_type": "code",
      "execution_count": 1,
      "metadata": {
        "colab": {
          "base_uri": "https://localhost:8080/"
        },
        "id": "2OfK0P0zXLAv",
        "outputId": "ef81200c-ea94-4e9b-ee94-5817d7e30152"
      },
      "outputs": [
        {
          "output_type": "stream",
          "name": "stdout",
          "text": [
            "Mounted at /content/drive\n",
            "ref                                                                title                                                size  lastUpdated          downloadCount  voteCount  usabilityRating  \n",
            "-----------------------------------------------------------------  --------------------------------------------------  -----  -------------------  -------------  ---------  ---------------  \n",
            "nelgiriyewithana/global-youtube-statistics-2023                    Global YouTube Statistics 2023                       60KB  2023-07-28 15:36:38           8245        270  1.0              \n",
            "ishanshrivastava28/superstore-sales                                Superstore Sales                                      2MB  2023-08-18 19:01:11            868         38  1.0              \n",
            "andrewgeorgeissac/hotel-price-data-of-cities-in-india-makemytrip   🏨Hotel Price Data of Cities in India (MakeMyTrip)    19KB  2023-08-19 06:43:04            810         29  1.0              \n",
            "kumaranand05/who-suicide-data-1950-2021                            WHO Suicide Data (1950-2021)                          3MB  2023-08-21 13:59:24            379         27  1.0              \n",
            "nelgiriyewithana/countries-of-the-world-2023                       Global Country Information Dataset 2023              23KB  2023-07-08 20:37:33          14489        565  1.0              \n",
            "petalme/student-anxiety-dataset                                    Student anxiety dataset                             647KB  2023-08-21 08:03:14            441         21  1.0              \n",
            "brunoalarcon123/top-200-spotify-songs-dataset                      Top 200 Spotify Songs Dataset                        35MB  2023-08-18 05:36:12           2298         76  1.0              \n",
            "anoopjohny/moon-landings                                           Moon Landings                                         8KB  2023-08-23 22:16:49            361         21  1.0              \n",
            "talhabu/us-regional-sales-data                                     US Regional Sales Data                              195KB  2023-08-14 13:37:46            657         28  1.0              \n",
            "anshtanwar/global-data-on-sustainable-energy                       Global Data on Sustainable Energy (2000-2020)       174KB  2023-08-19 05:22:23           4257         77  1.0              \n",
            "nagrajdesai/latest-10000-movies-dataset-from-tmdb                  Latest 10000 Movies Dataset from TMDB                 1MB  2023-08-17 04:45:36            781         33  1.0              \n",
            "mexwell/us-prisons-dataset                                         ⛓️ US Prisons Dataset                               941KB  2023-08-16 13:55:00            444         25  1.0              \n",
            "fiq423ubf/total-number-of-road-accidents-in-india                  Total Number of Road Accidents in India               4KB  2023-08-12 12:02:42            488         21  1.0              \n",
            "fiq423ubf/cbse-result-statistics-class-xii-2023                    CBSE Result Statistics Class XII - 2023              881B  2023-08-22 08:50:16            340         24  1.0              \n",
            "joebeachcapital/world-happiness-report-2013-2023                   World Happiness Reports 2013-2023                    93KB  2023-08-15 01:09:41            847         28  1.0              \n",
            "manishkumar7432698/tiktok-profiles-data                            TikTok User Profiles Dataset                        499KB  2023-08-12 14:03:38            617         29  1.0              \n",
            "ishanshrivastava28/sales-transaction-dataset-with-product-details  Clothes and Accessories: Sales and Product Details   17KB  2023-08-17 17:52:45            800         32  1.0              \n",
            "ishanshrivastava28/tata-online-retail-dataset                      TATA: Online Retail Dataset                          29MB  2023-08-16 09:21:59           1107         38  1.0              \n",
            "claymaker/us-largest-companies                                     us_largest_companies                                  4KB  2023-08-18 17:34:28            660         25  1.0              \n",
            "joyshil0599/global-university-rankings-dataset-2023                Global University Rankings Dataset 2023              50KB  2023-07-30 21:30:46            699         24  1.0              \n"
          ]
        }
      ],
      "source": [
        "# Install the kaggle python library\n",
        "!pip install -q kaggle\n",
        "\n",
        "# Mount your Google Drive.\n",
        "from google.colab import drive\n",
        "drive.mount(\"/content/drive\")\n",
        "\n",
        "# create directory and add the API token\n",
        "! mkdir ~/.kaggle\n",
        "\n",
        "!cp /content/drive/MyDrive/'Colab Notebooks'/kaggle.json ~/.kaggle/\n",
        "! chmod 600 ~/.kaggle/kaggle.json\n",
        "\n",
        "#check if it worked\n",
        "! kaggle datasets list"
      ]
    },
    {
      "cell_type": "markdown",
      "source": [
        "download titanic data:"
      ],
      "metadata": {
        "id": "YNmv3TJIXw1E"
      }
    },
    {
      "cell_type": "code",
      "source": [
        "! kaggle competitions download titanic"
      ],
      "metadata": {
        "colab": {
          "base_uri": "https://localhost:8080/"
        },
        "id": "iHH1XR5UY0oD",
        "outputId": "13765a7a-d715-4be1-bd92-a7362d71f879"
      },
      "execution_count": 2,
      "outputs": [
        {
          "output_type": "stream",
          "name": "stdout",
          "text": [
            "Downloading titanic.zip to /content\n",
            "\r  0% 0.00/34.1k [00:00<?, ?B/s]\n",
            "\r100% 34.1k/34.1k [00:00<00:00, 1.75MB/s]\n"
          ]
        }
      ]
    },
    {
      "cell_type": "markdown",
      "source": [
        "unarchive the zip file:"
      ],
      "metadata": {
        "id": "1zSWhiIqZNIc"
      }
    },
    {
      "cell_type": "code",
      "source": [
        "! unzip titanic.zip"
      ],
      "metadata": {
        "colab": {
          "base_uri": "https://localhost:8080/"
        },
        "id": "9MYzH2XwZUZ4",
        "outputId": "7990c134-e0ea-432e-e9ed-8155bde96ce4"
      },
      "execution_count": 3,
      "outputs": [
        {
          "output_type": "stream",
          "name": "stdout",
          "text": [
            "Archive:  titanic.zip\n",
            "  inflating: gender_submission.csv   \n",
            "  inflating: test.csv                \n",
            "  inflating: train.csv               \n"
          ]
        }
      ]
    },
    {
      "cell_type": "markdown",
      "source": [
        "we will import tabular library:"
      ],
      "metadata": {
        "id": "EQxzDlSlbhjC"
      }
    },
    {
      "cell_type": "code",
      "source": [
        "from fastai.tabular.all import *\n",
        "\n",
        "pd.options.display.float_format = '{:.2f}'.format #used to specify that floating-point numbers should be displayed with exactly 2 decimal places\n",
        "set_seed(42)"
      ],
      "metadata": {
        "id": "slyzF79GbpFE"
      },
      "execution_count": 4,
      "outputs": []
    },
    {
      "cell_type": "markdown",
      "source": [
        "## prep the data"
      ],
      "metadata": {
        "id": "8okrUA4TcKS-"
      }
    },
    {
      "cell_type": "markdown",
      "source": [
        "we'll read the train CSV file:"
      ],
      "metadata": {
        "id": "8DZ-pYg4cMmr"
      }
    },
    {
      "cell_type": "code",
      "source": [
        "df = pd.read_csv('train.csv')"
      ],
      "metadata": {
        "id": "fWuL2osccRvW"
      },
      "execution_count": 5,
      "outputs": []
    },
    {
      "cell_type": "markdown",
      "source": [
        "all the preperation for the data we did before when we created the model from scratch(normalization, dummy variables, missing values etc) done automaticaly when using fastai. so lets make it hard for the model and add some new features:"
      ],
      "metadata": {
        "id": "zyn5OPx4h-J7"
      }
    },
    {
      "cell_type": "code",
      "source": [
        "def add_features(df):\n",
        "    df['LogFare'] = np.log1p(df['Fare'])\n",
        "    df['Deck'] = df.Cabin.str[0].map(dict(A=\"ABC\", B=\"ABC\", C=\"ABC\", D=\"DE\", E=\"DE\", F=\"FG\", G=\"FG\"))\n",
        "    df['Family'] = df.SibSp+df.Parch\n",
        "    df['Alone'] = df.Family==1\n",
        "    df['TicketFreq'] = df.groupby('Ticket')['Ticket'].transform('count')\n",
        "    df['Title'] = df.Name.str.split(', ', expand=True)[1].str.split('.', expand=True)[0]\n",
        "    df['Title'] = df.Title.map(dict(Mr=\"Mr\",Miss=\"Miss\",Mrs=\"Mrs\",Master=\"Master\")).value_counts(dropna=False)\n",
        "\n",
        "add_features(df)"
      ],
      "metadata": {
        "id": "k5IYCIRfikXb"
      },
      "execution_count": 6,
      "outputs": []
    },
    {
      "cell_type": "markdown",
      "source": [
        "we will use `randomSplitter` in order to split our data to validation set and training set:"
      ],
      "metadata": {
        "id": "7WMm_D77issu"
      }
    },
    {
      "cell_type": "code",
      "source": [
        "splits = RandomSplitter(seed=42)(df)"
      ],
      "metadata": {
        "id": "VSWSasdjkkyS"
      },
      "execution_count": 8,
      "outputs": []
    },
    {
      "cell_type": "markdown",
      "source": [
        "now the process of getting the data ready for work is getting much easier:"
      ],
      "metadata": {
        "id": "uIYVI7ialYhu"
      }
    },
    {
      "cell_type": "code",
      "source": [
        " dls = TabularPandas(\n",
        "    df=df, splits=splits,\n",
        "    procs = [Categorify, FillMissing, Normalize],\n",
        "    cat_names=[\"Sex\",\"Pclass\",\"Embarked\",\"Deck\", \"Title\"],\n",
        "    cont_names=['Age', 'SibSp', 'Parch', 'LogFare', 'Alone', 'TicketFreq', 'Family'],\n",
        "    y_names=\"Survived\", y_block = CategoryBlock(),\n",
        ").dataloaders(path=\".\")"
      ],
      "metadata": {
        "id": "1svWvuoHlf9h"
      },
      "execution_count": 9,
      "outputs": []
    },
    {
      "cell_type": "markdown",
      "source": [
        "ill try to explain each argument in the `TabularPandas` class:\n",
        "- `df=` - This argument takes in a pandas DataFrame containing the tabular data you want to work with.\n",
        "- `splits=` - This argument allows you to provide indices or boolean masks that define how to split your data into training, validation, and optionally test sets.\n",
        "- `procs=` - This argument specifies the data preprocessing steps to be applied to the columns. It's a list of data processing functions that can include normalization, encoding categorical variables, and more. each attribute:\n",
        " - `Categorify`- Turn strings into categories.\n",
        " - `FillMissing` - fill missing values in numeric columns with the median\n",
        " - `Normalize` - normalise all numeric columns\n",
        "- `cat_names=` - This argument is a list of column names that represent categorical variables in the DataFrame.\n",
        "- `cont_names=` - This argument is a list of column names that represent continuous (numerical) variables in the DataFrame.\n",
        "- `y_names=` - This argument is used to specify the target variable(s) you want to predict. It's a list of column names.\n",
        "- `y_block=` - This argument defines how to process the target variable(s). It specifies the block type to use for the target, such as regression, classification, etc.\n",
        "\n",
        "`.dataloaders(path=\".\")` - method is a function provided by the fastai library that is used to create data loaders for your tabular data.\n",
        "\n",
        "\n",
        "\n",
        "\n",
        "\n",
        "\n"
      ],
      "metadata": {
        "id": "pkHKtdc0lhaK"
      }
    },
    {
      "cell_type": "markdown",
      "source": [
        "## Train the Model"
      ],
      "metadata": {
        "id": "1WzOxgj7n4LX"
      }
    },
    {
      "cell_type": "markdown",
      "source": [
        "the data and the model together make up a `learner`. we will use `tabular_learner()` function to create learner object specifically designed to handle tabular data."
      ],
      "metadata": {
        "id": "SdbHZyaooTnm"
      }
    },
    {
      "cell_type": "code",
      "source": [
        "learn = tabular_learner(dls=dls, metrics=accuracy, layers=[10,10])"
      ],
      "metadata": {
        "id": "yc1LbXfxpRcm"
      },
      "execution_count": 11,
      "outputs": []
    },
    {
      "cell_type": "markdown",
      "source": [
        "- `dls=` - This argument specifies the data loaders (DataLoaders object) that will provide batches of training and validation data.\n",
        "- `metrics=` - A list of metrics to be computed during training and validation, such as accuracy, precision, recall, etc.\n",
        "- `layers` - A list of integers representing the number of units in each layer of the model's architecture. For example, `layers=[200,100]` specifies a model with two hidden layers, having 200 and 100 units respectively.\n"
      ],
      "metadata": {
        "id": "YmbY1KmIpXuC"
      }
    },
    {
      "cell_type": "markdown",
      "source": [
        "the learner we created using fastai library has a feature that can tell us what learning rate is best to use:"
      ],
      "metadata": {
        "id": "8M0IcHnPqYB5"
      }
    },
    {
      "cell_type": "code",
      "source": [
        "learn.lr_find(suggest_funcs=(slide, valley));"
      ],
      "metadata": {
        "colab": {
          "base_uri": "https://localhost:8080/",
          "height": 454
        },
        "id": "cErwhpYhqLFd",
        "outputId": "2c5276bd-a3bf-4427-cc8a-804d06910619"
      },
      "execution_count": 14,
      "outputs": [
        {
          "output_type": "display_data",
          "data": {
            "text/plain": [
              "<IPython.core.display.HTML object>"
            ],
            "text/html": [
              "\n",
              "<style>\n",
              "    /* Turns off some styling */\n",
              "    progress {\n",
              "        /* gets rid of default border in Firefox and Opera. */\n",
              "        border: none;\n",
              "        /* Needs to be in here for Safari polyfill so background images work as expected. */\n",
              "        background-size: auto;\n",
              "    }\n",
              "    progress:not([value]), progress:not([value])::-webkit-progress-bar {\n",
              "        background: repeating-linear-gradient(45deg, #7e7e7e, #7e7e7e 10px, #5c5c5c 10px, #5c5c5c 20px);\n",
              "    }\n",
              "    .progress-bar-interrupted, .progress-bar-interrupted::-webkit-progress-bar {\n",
              "        background: #F44336;\n",
              "    }\n",
              "</style>\n"
            ]
          },
          "metadata": {}
        },
        {
          "output_type": "display_data",
          "data": {
            "text/plain": [
              "<IPython.core.display.HTML object>"
            ],
            "text/html": []
          },
          "metadata": {}
        },
        {
          "output_type": "display_data",
          "data": {
            "text/plain": [
              "<Figure size 640x480 with 1 Axes>"
            ],
            "image/png": "[encoded data removed]"
          },
          "metadata": {}
        }
      ]
    },
    {
      "cell_type": "markdown",
      "source": [
        "- `slide` - This is the area where the learning rate is gradually becoming larger but still allows the model to improve. It's the \"sweet spot\" where the model is learning effectively without diverging.\n",
        "- `valley` - It's the point you're aiming to identify in order to choose an appropriate learning rate for training your model.\n",
        "\n",
        "\n",
        "The two colored points are both reasonable choices for a learning rate. I'll pick somewhere between the two (0.03) and train for a few epochs:"
      ],
      "metadata": {
        "id": "36YXvdrzrvZC"
      }
    },
    {
      "cell_type": "code",
      "source": [
        "learn.fit(n_epoch=16, lr=0.03)"
      ],
      "metadata": {
        "colab": {
          "base_uri": "https://localhost:8080/",
          "height": 545
        },
        "id": "b9fbxozqtIBL",
        "outputId": "fa3e3791-c6e0-4aff-c7d2-7b8c7c6908e4"
      },
      "execution_count": 15,
      "outputs": [
        {
          "output_type": "display_data",
          "data": {
            "text/plain": [
              "<IPython.core.display.HTML object>"
            ],
            "text/html": [
              "\n",
              "<style>\n",
              "    /* Turns off some styling */\n",
              "    progress {\n",
              "        /* gets rid of default border in Firefox and Opera. */\n",
              "        border: none;\n",
              "        /* Needs to be in here for Safari polyfill so background images work as expected. */\n",
              "        background-size: auto;\n",
              "    }\n",
              "    progress:not([value]), progress:not([value])::-webkit-progress-bar {\n",
              "        background: repeating-linear-gradient(45deg, #7e7e7e, #7e7e7e 10px, #5c5c5c 10px, #5c5c5c 20px);\n",
              "    }\n",
              "    .progress-bar-interrupted, .progress-bar-interrupted::-webkit-progress-bar {\n",
              "        background: #F44336;\n",
              "    }\n",
              "</style>\n"
            ]
          },
          "metadata": {}
        },
        {
          "output_type": "display_data",
          "data": {
            "text/plain": [
              "<IPython.core.display.HTML object>"
            ],
            "text/html": [
              "<table border=\"1\" class=\"dataframe\">\n",
              "  <thead>\n",
              "    <tr style=\"text-align: left;\">\n",
              "      <th>epoch</th>\n",
              "      <th>train_loss</th>\n",
              "      <th>valid_loss</th>\n",
              "      <th>accuracy</th>\n",
              "      <th>time</th>\n",
              "    </tr>\n",
              "  </thead>\n",
              "  <tbody>\n",
              "    <tr>\n",
              "      <td>0</td>\n",
              "      <td>0.603772</td>\n",
              "      <td>0.602265</td>\n",
              "      <td>0.595506</td>\n",
              "      <td>00:00</td>\n",
              "    </tr>\n",
              "    <tr>\n",
              "      <td>1</td>\n",
              "      <td>0.527055</td>\n",
              "      <td>0.454676</td>\n",
              "      <td>0.808989</td>\n",
              "      <td>00:00</td>\n",
              "    </tr>\n",
              "    <tr>\n",
              "      <td>2</td>\n",
              "      <td>0.491568</td>\n",
              "      <td>0.428678</td>\n",
              "      <td>0.797753</td>\n",
              "      <td>00:00</td>\n",
              "    </tr>\n",
              "    <tr>\n",
              "      <td>3</td>\n",
              "      <td>0.466636</td>\n",
              "      <td>0.429151</td>\n",
              "      <td>0.814607</td>\n",
              "      <td>00:00</td>\n",
              "    </tr>\n",
              "    <tr>\n",
              "      <td>4</td>\n",
              "      <td>0.453607</td>\n",
              "      <td>0.447235</td>\n",
              "      <td>0.780899</td>\n",
              "      <td>00:00</td>\n",
              "    </tr>\n",
              "    <tr>\n",
              "      <td>5</td>\n",
              "      <td>0.443266</td>\n",
              "      <td>0.420910</td>\n",
              "      <td>0.808989</td>\n",
              "      <td>00:00</td>\n",
              "    </tr>\n",
              "    <tr>\n",
              "      <td>6</td>\n",
              "      <td>0.430229</td>\n",
              "      <td>0.433128</td>\n",
              "      <td>0.820225</td>\n",
              "      <td>00:00</td>\n",
              "    </tr>\n",
              "    <tr>\n",
              "      <td>7</td>\n",
              "      <td>0.421441</td>\n",
              "      <td>0.413994</td>\n",
              "      <td>0.797753</td>\n",
              "      <td>00:00</td>\n",
              "    </tr>\n",
              "    <tr>\n",
              "      <td>8</td>\n",
              "      <td>0.415577</td>\n",
              "      <td>0.433877</td>\n",
              "      <td>0.820225</td>\n",
              "      <td>00:00</td>\n",
              "    </tr>\n",
              "    <tr>\n",
              "      <td>9</td>\n",
              "      <td>0.410691</td>\n",
              "      <td>0.442883</td>\n",
              "      <td>0.825843</td>\n",
              "      <td>00:00</td>\n",
              "    </tr>\n",
              "    <tr>\n",
              "      <td>10</td>\n",
              "      <td>0.405779</td>\n",
              "      <td>0.440214</td>\n",
              "      <td>0.814607</td>\n",
              "      <td>00:00</td>\n",
              "    </tr>\n",
              "    <tr>\n",
              "      <td>11</td>\n",
              "      <td>0.400372</td>\n",
              "      <td>0.427591</td>\n",
              "      <td>0.820225</td>\n",
              "      <td>00:00</td>\n",
              "    </tr>\n",
              "    <tr>\n",
              "      <td>12</td>\n",
              "      <td>0.395566</td>\n",
              "      <td>0.432349</td>\n",
              "      <td>0.797753</td>\n",
              "      <td>00:00</td>\n",
              "    </tr>\n",
              "    <tr>\n",
              "      <td>13</td>\n",
              "      <td>0.392951</td>\n",
              "      <td>0.430084</td>\n",
              "      <td>0.831461</td>\n",
              "      <td>00:00</td>\n",
              "    </tr>\n",
              "    <tr>\n",
              "      <td>14</td>\n",
              "      <td>0.390649</td>\n",
              "      <td>0.442768</td>\n",
              "      <td>0.808989</td>\n",
              "      <td>00:00</td>\n",
              "    </tr>\n",
              "    <tr>\n",
              "      <td>15</td>\n",
              "      <td>0.388690</td>\n",
              "      <td>0.440550</td>\n",
              "      <td>0.797753</td>\n",
              "      <td>00:00</td>\n",
              "    </tr>\n",
              "  </tbody>\n",
              "</table>"
            ]
          },
          "metadata": {}
        }
      ]
    },
    {
      "cell_type": "markdown",
      "source": [
        "as we can see our accuracy scored the same results like the model we created form scratch. as we said before the data is small and this problem can be solved with simple linear model."
      ],
      "metadata": {
        "id": "Y2YUps8ItJAn"
      }
    },
    {
      "cell_type": "markdown",
      "source": [
        "## Submit to Kaggle"
      ],
      "metadata": {
        "id": "4hTlqx8TuGt7"
      }
    },
    {
      "cell_type": "markdown",
      "source": [
        "we can submit to Kaggle using fastai functions.\n",
        "To submit to Kaggle, we'll need to read in the test set, and do the same feature engineering we did for the training set:"
      ],
      "metadata": {
        "id": "IngSKkhCuJi9"
      }
    },
    {
      "cell_type": "code",
      "source": [
        "tst_df = pd.read_csv('test.csv')\n",
        "tst_df['Fare'] = tst_df.Fare.fillna(0)\n",
        "add_features(tst_df)"
      ],
      "metadata": {
        "id": "7QJcPCbMuSVe"
      },
      "execution_count": 16,
      "outputs": []
    },
    {
      "cell_type": "markdown",
      "source": [
        "But we don't need to manually specify any of the processing steps necessary to get the data ready for modeling, since that's all saved in the learner. To specify we want to apply the same steps to a new dataset, use the `test_dl()` method:"
      ],
      "metadata": {
        "id": "i8PgiogCuhr9"
      }
    },
    {
      "cell_type": "code",
      "source": [
        "tst_dl = learn.dls.test_dl(tst_df)"
      ],
      "metadata": {
        "id": "NTBAHXK8uiQH"
      },
      "execution_count": 17,
      "outputs": []
    },
    {
      "cell_type": "markdown",
      "source": [
        "Now we can use `get_preds` to get the predictions for the test set:"
      ],
      "metadata": {
        "id": "lsTxNoc3usWH"
      }
    },
    {
      "cell_type": "code",
      "source": [
        "preds,targets = learn.get_preds(dl=tst_dl)\n",
        "preds"
      ],
      "metadata": {
        "colab": {
          "base_uri": "https://localhost:8080/",
          "height": 1000
        },
        "id": "VkP6X3zoutkz",
        "outputId": "2c71b944-a7f5-4f3a-8abb-32fe95893dba"
      },
      "execution_count": 38,
      "outputs": [
        {
          "output_type": "display_data",
          "data": {
            "text/plain": [
              "<IPython.core.display.HTML object>"
            ],
            "text/html": [
              "\n",
              "<style>\n",
              "    /* Turns off some styling */\n",
              "    progress {\n",
              "        /* gets rid of default border in Firefox and Opera. */\n",
              "        border: none;\n",
              "        /* Needs to be in here for Safari polyfill so background images work as expected. */\n",
              "        background-size: auto;\n",
              "    }\n",
              "    progress:not([value]), progress:not([value])::-webkit-progress-bar {\n",
              "        background: repeating-linear-gradient(45deg, #7e7e7e, #7e7e7e 10px, #5c5c5c 10px, #5c5c5c 20px);\n",
              "    }\n",
              "    .progress-bar-interrupted, .progress-bar-interrupted::-webkit-progress-bar {\n",
              "        background: #F44336;\n",
              "    }\n",
              "</style>\n"
            ]
          },
          "metadata": {}
        },
        {
          "output_type": "display_data",
          "data": {
            "text/plain": [
              "<IPython.core.display.HTML object>"
            ],
            "text/html": []
          },
          "metadata": {}
        },
        {
          "output_type": "execute_result",
          "data": {
            "text/plain": [
              "tensor([[0.9062, 0.0938],\n",
              "        [0.4515, 0.5485],\n",
              "        [0.8827, 0.1173],\n",
              "        [0.8582, 0.1418],\n",
              "        [0.3468, 0.6532],\n",
              "        [0.7895, 0.2105],\n",
              "        [0.2950, 0.7050],\n",
              "        [0.8912, 0.1088],\n",
              "        [0.2623, 0.7377],\n",
              "        [0.8527, 0.1473],\n",
              "        [0.9114, 0.0886],\n",
              "        [0.8002, 0.1998],\n",
              "        [0.0522, 0.9478],\n",
              "        [0.8983, 0.1017],\n",
              "        [0.0122, 0.9878],\n",
              "        [0.0368, 0.9632],\n",
              "        [0.8169, 0.1831],\n",
              "        [0.7280, 0.2720],\n",
              "        [0.4663, 0.5337],\n",
              "        [0.2626, 0.7374],\n",
              "        [0.7559, 0.2441],\n",
              "        [0.4945, 0.5055],\n",
              "        [0.0868, 0.9132],\n",
              "        [0.6649, 0.3351],\n",
              "        [0.1670, 0.8330],\n",
              "        [0.9757, 0.0243],\n",
              "        [0.0643, 0.9357],\n",
              "        [0.7403, 0.2597],\n",
              "        [0.5988, 0.4012],\n",
              "        [0.6677, 0.3323],\n",
              "        [0.9299, 0.0701],\n",
              "        [0.8989, 0.1011],\n",
              "        [0.6692, 0.3308],\n",
              "        [0.5659, 0.4341],\n",
              "        [0.6838, 0.3162],\n",
              "        [0.7067, 0.2933],\n",
              "        [0.4571, 0.5429],\n",
              "        [0.3870, 0.6130],\n",
              "        [0.8446, 0.1554],\n",
              "        [0.8825, 0.1175],\n",
              "        [0.9510, 0.0490],\n",
              "        [0.2711, 0.7289],\n",
              "        [0.9424, 0.0576],\n",
              "        [0.1021, 0.8979],\n",
              "        [0.0127, 0.9873],\n",
              "        [0.8550, 0.1450],\n",
              "        [0.5720, 0.4280],\n",
              "        [0.8040, 0.1960],\n",
              "        [0.0148, 0.9852],\n",
              "        [0.4010, 0.5990],\n",
              "        [0.8022, 0.1978],\n",
              "        [0.8313, 0.1687],\n",
              "        [0.0479, 0.9521],\n",
              "        [0.0603, 0.9397],\n",
              "        [0.6762, 0.3238],\n",
              "        [0.5088, 0.4912],\n",
              "        [0.9129, 0.0871],\n",
              "        [0.8262, 0.1738],\n",
              "        [0.9086, 0.0914],\n",
              "        [0.0240, 0.9760],\n",
              "        [0.8274, 0.1726],\n",
              "        [0.9206, 0.0794],\n",
              "        [0.8298, 0.1702],\n",
              "        [0.2701, 0.7299],\n",
              "        [0.5008, 0.4992],\n",
              "        [0.0528, 0.9472],\n",
              "        [0.2859, 0.7141],\n",
              "        [0.7740, 0.2260],\n",
              "        [0.4166, 0.5834],\n",
              "        [0.1160, 0.8840],\n",
              "        [0.2644, 0.7356],\n",
              "        [0.8376, 0.1624],\n",
              "        [0.4328, 0.5672],\n",
              "        [0.1676, 0.8324],\n",
              "        [0.0130, 0.9870],\n",
              "        [0.3464, 0.6536],\n",
              "        [0.9112, 0.0888],\n",
              "        [0.0261, 0.9739],\n",
              "        [0.9165, 0.0835],\n",
              "        [0.2644, 0.7356],\n",
              "        [0.1438, 0.8562],\n",
              "        [0.7941, 0.2059],\n",
              "        [0.8275, 0.1725],\n",
              "        [0.9114, 0.0886],\n",
              "        [0.6116, 0.3884],\n",
              "        [0.7308, 0.2692],\n",
              "        [0.2682, 0.7318],\n",
              "        [0.3542, 0.6458],\n",
              "        [0.2065, 0.7935],\n",
              "        [0.1058, 0.8942],\n",
              "        [0.4579, 0.5421],\n",
              "        [0.9115, 0.0885],\n",
              "        [0.0517, 0.9483],\n",
              "        [0.9112, 0.0888],\n",
              "        [0.6552, 0.3448],\n",
              "        [0.8559, 0.1441],\n",
              "        [0.0608, 0.9392],\n",
              "        [0.8700, 0.1300],\n",
              "        [0.3788, 0.6212],\n",
              "        [0.8995, 0.1005],\n",
              "        [0.0065, 0.9935],\n",
              "        [0.9365, 0.0635],\n",
              "        [0.8040, 0.1960],\n",
              "        [0.8599, 0.1401],\n",
              "        [0.2353, 0.7647],\n",
              "        [0.7744, 0.2256],\n",
              "        [0.7537, 0.2463],\n",
              "        [0.8040, 0.1960],\n",
              "        [0.9107, 0.0893],\n",
              "        [0.8547, 0.1453],\n",
              "        [0.7709, 0.2291],\n",
              "        [0.2062, 0.7938],\n",
              "        [0.0215, 0.9785],\n",
              "        [0.2901, 0.7099],\n",
              "        [0.0198, 0.9802],\n",
              "        [0.6554, 0.3446],\n",
              "        [0.7788, 0.2212],\n",
              "        [0.1281, 0.8719],\n",
              "        [0.3959, 0.6041],\n",
              "        [0.0711, 0.9289],\n",
              "        [0.1725, 0.8275],\n",
              "        [0.8162, 0.1838],\n",
              "        [0.0087, 0.9913],\n",
              "        [0.8706, 0.1294],\n",
              "        [0.8040, 0.1960],\n",
              "        [0.2886, 0.7114],\n",
              "        [0.8419, 0.1581],\n",
              "        [0.1024, 0.8976],\n",
              "        [0.9062, 0.0938],\n",
              "        [0.8495, 0.1505],\n",
              "        [0.8924, 0.1076],\n",
              "        [0.7327, 0.2673],\n",
              "        [0.1240, 0.8760],\n",
              "        [0.7921, 0.2079],\n",
              "        [0.9497, 0.0503],\n",
              "        [0.8509, 0.1491],\n",
              "        [0.7714, 0.2286],\n",
              "        [0.8975, 0.1025],\n",
              "        [0.4097, 0.5903],\n",
              "        [0.9635, 0.0365],\n",
              "        [0.7259, 0.2741],\n",
              "        [0.0409, 0.9591],\n",
              "        [0.9938, 0.0062],\n",
              "        [0.9042, 0.0958],\n",
              "        [0.7671, 0.2329],\n",
              "        [0.9398, 0.0602],\n",
              "        [0.2632, 0.7368],\n",
              "        [0.8404, 0.1596],\n",
              "        [0.8894, 0.1106],\n",
              "        [0.9380, 0.0620],\n",
              "        [0.0521, 0.9479],\n",
              "        [0.7762, 0.2238],\n",
              "        [0.9951, 0.0049],\n",
              "        [0.6232, 0.3768],\n",
              "        [0.8596, 0.1404],\n",
              "        [0.8532, 0.1468],\n",
              "        [0.0253, 0.9747],\n",
              "        [0.4104, 0.5896],\n",
              "        [0.2890, 0.7110],\n",
              "        [0.7596, 0.2404],\n",
              "        [0.2067, 0.7933],\n",
              "        [0.1567, 0.8433],\n",
              "        [0.1284, 0.8716],\n",
              "        [0.9122, 0.0878],\n",
              "        [0.9114, 0.0886],\n",
              "        [0.5906, 0.4094],\n",
              "        [0.5115, 0.4885],\n",
              "        [0.7239, 0.2761],\n",
              "        [0.0330, 0.9670],\n",
              "        [0.3964, 0.6036],\n",
              "        [0.9117, 0.0883],\n",
              "        [0.7748, 0.2252],\n",
              "        [0.8165, 0.1835],\n",
              "        [0.7774, 0.2226],\n",
              "        [0.9809, 0.0191],\n",
              "        [0.0356, 0.9644],\n",
              "        [0.1031, 0.8969],\n",
              "        [0.6615, 0.3385],\n",
              "        [0.0144, 0.9856],\n",
              "        [0.0051, 0.9949],\n",
              "        [0.9165, 0.0835],\n",
              "        [0.1234, 0.8766],\n",
              "        [0.0291, 0.9709],\n",
              "        [0.8040, 0.1960],\n",
              "        [0.0165, 0.9835],\n",
              "        [0.9086, 0.0914],\n",
              "        [0.1041, 0.8959],\n",
              "        [0.8153, 0.1847],\n",
              "        [0.9163, 0.0837],\n",
              "        [0.9163, 0.0837],\n",
              "        [0.9416, 0.0584],\n",
              "        [0.8902, 0.1098],\n",
              "        [0.6552, 0.3448],\n",
              "        [0.8461, 0.1539],\n",
              "        [0.0666, 0.9334],\n",
              "        [0.9006, 0.0994],\n",
              "        [0.0120, 0.9880],\n",
              "        [0.3547, 0.6453],\n",
              "        [0.8891, 0.1109],\n",
              "        [0.4570, 0.5430],\n",
              "        [0.1606, 0.8394],\n",
              "        [0.0819, 0.9181],\n",
              "        [0.5059, 0.4941],\n",
              "        [0.0533, 0.9467],\n",
              "        [0.8953, 0.1047],\n",
              "        [0.7892, 0.2108],\n",
              "        [0.3084, 0.6916],\n",
              "        [0.8922, 0.1078],\n",
              "        [0.0244, 0.9756],\n",
              "        [0.8552, 0.1448],\n",
              "        [0.8109, 0.1891],\n",
              "        [0.9121, 0.0879],\n",
              "        [0.8299, 0.1701],\n",
              "        [0.0139, 0.9861],\n",
              "        [0.5916, 0.4084],\n",
              "        [0.5992, 0.4008],\n",
              "        [0.2053, 0.7947],\n",
              "        [0.9483, 0.0517],\n",
              "        [0.0105, 0.9895],\n",
              "        [0.9112, 0.0888],\n",
              "        [0.0358, 0.9642],\n",
              "        [0.8366, 0.1634],\n",
              "        [0.1298, 0.8702],\n",
              "        [0.8382, 0.1618],\n",
              "        [0.0331, 0.9669],\n",
              "        [0.2252, 0.7748],\n",
              "        [0.8467, 0.1533],\n",
              "        [0.2065, 0.7935],\n",
              "        [0.9184, 0.0816],\n",
              "        [0.9207, 0.0793],\n",
              "        [0.7916, 0.2084],\n",
              "        [0.1893, 0.8107],\n",
              "        [0.8112, 0.1888],\n",
              "        [0.8038, 0.1962],\n",
              "        [0.6588, 0.3412],\n",
              "        [0.8340, 0.1660],\n",
              "        [0.4178, 0.5822],\n",
              "        [0.7196, 0.2804],\n",
              "        [0.0705, 0.9295],\n",
              "        [0.0060, 0.9940],\n",
              "        [0.0339, 0.9661],\n",
              "        [0.0286, 0.9714],\n",
              "        [0.2801, 0.7199],\n",
              "        [0.9114, 0.0886],\n",
              "        [0.9122, 0.0878],\n",
              "        [0.3950, 0.6050],\n",
              "        [0.1220, 0.8780],\n",
              "        [0.9682, 0.0318],\n",
              "        [0.0711, 0.9289],\n",
              "        [0.1930, 0.8070],\n",
              "        [0.0167, 0.9833],\n",
              "        [0.8336, 0.1664],\n",
              "        [0.6375, 0.3625],\n",
              "        [0.8408, 0.1592],\n",
              "        [0.8881, 0.1119],\n",
              "        [0.9117, 0.0883],\n",
              "        [0.8040, 0.1960],\n",
              "        [0.8656, 0.1344],\n",
              "        [0.1585, 0.8415],\n",
              "        [0.8383, 0.1617],\n",
              "        [0.9297, 0.0703],\n",
              "        [0.8378, 0.1622],\n",
              "        [0.0406, 0.9594],\n",
              "        [0.2192, 0.7808],\n",
              "        [0.8330, 0.1670],\n",
              "        [0.9114, 0.0886],\n",
              "        [0.9369, 0.0631],\n",
              "        [0.9117, 0.0883],\n",
              "        [0.4571, 0.5429],\n",
              "        [0.8252, 0.1748],\n",
              "        [0.4732, 0.5268],\n",
              "        [0.8040, 0.1960],\n",
              "        [0.0148, 0.9852],\n",
              "        [0.1193, 0.8807],\n",
              "        [0.7774, 0.2226],\n",
              "        [0.0882, 0.9118],\n",
              "        [0.9071, 0.0929],\n",
              "        [0.9369, 0.0631],\n",
              "        [0.9463, 0.0537],\n",
              "        [0.8858, 0.1142],\n",
              "        [0.4078, 0.5922],\n",
              "        [0.4813, 0.5187],\n",
              "        [0.2065, 0.7935],\n",
              "        [0.2608, 0.7392],\n",
              "        [0.1509, 0.8491],\n",
              "        [0.9216, 0.0784],\n",
              "        [0.9119, 0.0881],\n",
              "        [0.8009, 0.1991],\n",
              "        [0.7189, 0.2811],\n",
              "        [0.9112, 0.0888],\n",
              "        [0.8591, 0.1409],\n",
              "        [0.2982, 0.7018],\n",
              "        [0.7774, 0.2226],\n",
              "        [0.9394, 0.0606],\n",
              "        [0.9115, 0.0885],\n",
              "        [0.8591, 0.1409],\n",
              "        [0.0125, 0.9875],\n",
              "        [0.6677, 0.3323],\n",
              "        [0.7466, 0.2534],\n",
              "        [0.8704, 0.1296],\n",
              "        [0.8938, 0.1062],\n",
              "        [0.1397, 0.8603],\n",
              "        [0.9835, 0.0165],\n",
              "        [0.8453, 0.1547],\n",
              "        [0.2065, 0.7935],\n",
              "        [0.0258, 0.9742],\n",
              "        [0.8259, 0.1741],\n",
              "        [0.3079, 0.6921],\n",
              "        [0.9362, 0.0638],\n",
              "        [0.4049, 0.5951],\n",
              "        [0.8272, 0.1728],\n",
              "        [0.7363, 0.2637],\n",
              "        [0.9116, 0.0884],\n",
              "        [0.3001, 0.6999],\n",
              "        [0.0135, 0.9865],\n",
              "        [0.2818, 0.7182],\n",
              "        [0.5895, 0.4105],\n",
              "        [0.8756, 0.1244],\n",
              "        [0.8631, 0.1369],\n",
              "        [0.8824, 0.1176],\n",
              "        [0.8599, 0.1401],\n",
              "        [0.7098, 0.2902],\n",
              "        [0.8824, 0.1176],\n",
              "        [0.7483, 0.2517],\n",
              "        [0.0330, 0.9670],\n",
              "        [0.8524, 0.1476],\n",
              "        [0.0268, 0.9732],\n",
              "        [0.5766, 0.4234],\n",
              "        [0.9430, 0.0570],\n",
              "        [0.8815, 0.1185],\n",
              "        [0.0217, 0.9783],\n",
              "        [0.4277, 0.5723],\n",
              "        [0.7774, 0.2226],\n",
              "        [0.2755, 0.7245],\n",
              "        [0.8629, 0.1371],\n",
              "        [0.5974, 0.4026],\n",
              "        [0.9207, 0.0793],\n",
              "        [0.8518, 0.1482],\n",
              "        [0.8491, 0.1509],\n",
              "        [0.7774, 0.2226],\n",
              "        [0.8720, 0.1280],\n",
              "        [0.8948, 0.1052],\n",
              "        [0.9225, 0.0775],\n",
              "        [0.0030, 0.9970],\n",
              "        [0.8918, 0.1082],\n",
              "        [0.3315, 0.6685],\n",
              "        [0.8975, 0.1025],\n",
              "        [0.2979, 0.7021],\n",
              "        [0.8912, 0.1088],\n",
              "        [0.0787, 0.9213],\n",
              "        [0.0070, 0.9930],\n",
              "        [0.8953, 0.1047],\n",
              "        [0.8362, 0.1638],\n",
              "        [0.9869, 0.0131],\n",
              "        [0.1728, 0.8272],\n",
              "        [0.4167, 0.5833],\n",
              "        [0.0201, 0.9799],\n",
              "        [0.9114, 0.0886],\n",
              "        [0.8040, 0.1960],\n",
              "        [0.4929, 0.5071],\n",
              "        [0.9871, 0.0129],\n",
              "        [0.0221, 0.9779],\n",
              "        [0.0720, 0.9280],\n",
              "        [0.8582, 0.1418],\n",
              "        [0.0108, 0.9892],\n",
              "        [0.3617, 0.6383],\n",
              "        [0.7804, 0.2196],\n",
              "        [0.3719, 0.6281],\n",
              "        [0.0142, 0.9858],\n",
              "        [0.8348, 0.1652],\n",
              "        [0.8778, 0.1222],\n",
              "        [0.0154, 0.9846],\n",
              "        [0.9741, 0.0259],\n",
              "        [0.8950, 0.1050],\n",
              "        [0.0136, 0.9864],\n",
              "        [0.0295, 0.9705],\n",
              "        [0.3702, 0.6298],\n",
              "        [0.8821, 0.1179],\n",
              "        [0.7036, 0.2964],\n",
              "        [0.6861, 0.3139],\n",
              "        [0.8040, 0.1960],\n",
              "        [0.7907, 0.2093],\n",
              "        [0.4238, 0.5762],\n",
              "        [0.3486, 0.6514],\n",
              "        [0.8732, 0.1268],\n",
              "        [0.0450, 0.9550],\n",
              "        [0.8515, 0.1485],\n",
              "        [0.8479, 0.1521],\n",
              "        [0.7534, 0.2466],\n",
              "        [0.5485, 0.4515],\n",
              "        [0.6522, 0.3478],\n",
              "        [0.0104, 0.9896],\n",
              "        [0.3982, 0.6018],\n",
              "        [0.8863, 0.1137],\n",
              "        [0.9738, 0.0262],\n",
              "        [0.0861, 0.9139],\n",
              "        [0.7747, 0.2253],\n",
              "        [0.0061, 0.9939],\n",
              "        [0.8421, 0.1579],\n",
              "        [0.8709, 0.1291],\n",
              "        [0.0234, 0.9766],\n",
              "        [0.9438, 0.0562],\n",
              "        [0.1081, 0.8919],\n",
              "        [0.8012, 0.1988],\n",
              "        [0.3485, 0.6515],\n",
              "        [0.1245, 0.8755],\n",
              "        [0.9020, 0.0980],\n",
              "        [0.7011, 0.2989],\n",
              "        [0.2068, 0.7932],\n",
              "        [0.5153, 0.4847],\n",
              "        [0.2065, 0.7935],\n",
              "        [0.0060, 0.9940],\n",
              "        [0.4248, 0.5752],\n",
              "        [0.9112, 0.0888],\n",
              "        [0.0121, 0.9879],\n",
              "        [0.9339, 0.0661],\n",
              "        [0.9112, 0.0888],\n",
              "        [0.6097, 0.3903]])"
            ]
          },
          "metadata": {},
          "execution_count": 38
        }
      ]
    },
    {
      "cell_type": "markdown",
      "source": [
        "the return values from `.get_preds()` are:\n",
        "- `preds` - This is a tensor containing the predicted outputs from the model. The shape of this tensor depends on the type of problem you're working on.\n",
        "- `targets` - This is a tensor containing the target values associated with the inputs used to generate the predictions."
      ],
      "metadata": {
        "id": "QYURog3Wu-xo"
      }
    },
    {
      "cell_type": "markdown",
      "source": [
        "Finally, let's create a submission CSV just like we did in the previous notebook..."
      ],
      "metadata": {
        "id": "H1Mr36gRwfE5"
      }
    },
    {
      "cell_type": "code",
      "source": [
        "tst_df['Survived'] = (preds[:,1]>0.5).int()\n",
        "sub_df = tst_df[['PassengerId','Survived']]\n",
        "sub_df.to_csv('sub.csv', index=False)"
      ],
      "metadata": {
        "id": "8gNy7nw-vWiz"
      },
      "execution_count": 29,
      "outputs": []
    },
    {
      "cell_type": "markdown",
      "source": [
        "check our CSV file"
      ],
      "metadata": {
        "id": "9lFQO6kawxDc"
      }
    },
    {
      "cell_type": "code",
      "source": [
        "!head sub.csv"
      ],
      "metadata": {
        "colab": {
          "base_uri": "https://localhost:8080/"
        },
        "id": "nCgEiaApwzbD",
        "outputId": "b8e8f284-fa41-4d8a-b0e0-5c43160ae8e6"
      },
      "execution_count": 30,
      "outputs": [
        {
          "output_type": "stream",
          "name": "stdout",
          "text": [
            "PassengerId,Survived\n",
            "892,0\n",
            "893,1\n",
            "894,0\n",
            "895,0\n",
            "896,1\n",
            "897,0\n",
            "898,1\n",
            "899,0\n",
            "900,1\n"
          ]
        }
      ]
    },
    {
      "cell_type": "markdown",
      "source": [
        "## Ensembling"
      ],
      "metadata": {
        "id": "Yr_swvlmxU9S"
      }
    },
    {
      "cell_type": "markdown",
      "source": [
        "we can create five separate models, each trained from different random starting points, and average them, this approach called Ensembling."
      ],
      "metadata": {
        "id": "xDSazp3jxZNj"
      }
    },
    {
      "cell_type": "code",
      "source": [
        "def ensemble():\n",
        "    learn = tabular_learner(dls, metrics=accuracy, layers=[10,10])\n",
        "    with learn.no_bar(),learn.no_logging(): learn.fit(16, lr=0.03)\n",
        "    return learn.get_preds(dl=tst_dl)[0]"
      ],
      "metadata": {
        "id": "qRc9p-8c6W0I"
      },
      "execution_count": 31,
      "outputs": []
    },
    {
      "cell_type": "markdown",
      "source": [
        "now we run this five times and collect the results to a list:"
      ],
      "metadata": {
        "id": "veKoEeQU6meZ"
      }
    },
    {
      "cell_type": "code",
      "source": [
        "learns = [ensemble() for _ in range(5)]"
      ],
      "metadata": {
        "colab": {
          "base_uri": "https://localhost:8080/",
          "height": 17
        },
        "id": "pdJYgUGb6uwQ",
        "outputId": "ff3067a6-230b-41fd-87ba-ef57fb1407f0"
      },
      "execution_count": 35,
      "outputs": [
        {
          "output_type": "display_data",
          "data": {
            "text/plain": [
              "<IPython.core.display.HTML object>"
            ],
            "text/html": [
              "\n",
              "<style>\n",
              "    /* Turns off some styling */\n",
              "    progress {\n",
              "        /* gets rid of default border in Firefox and Opera. */\n",
              "        border: none;\n",
              "        /* Needs to be in here for Safari polyfill so background images work as expected. */\n",
              "        background-size: auto;\n",
              "    }\n",
              "    progress:not([value]), progress:not([value])::-webkit-progress-bar {\n",
              "        background: repeating-linear-gradient(45deg, #7e7e7e, #7e7e7e 10px, #5c5c5c 10px, #5c5c5c 20px);\n",
              "    }\n",
              "    .progress-bar-interrupted, .progress-bar-interrupted::-webkit-progress-bar {\n",
              "        background: #F44336;\n",
              "    }\n",
              "</style>\n"
            ]
          },
          "metadata": {}
        },
        {
          "output_type": "display_data",
          "data": {
            "text/plain": [
              "<IPython.core.display.HTML object>"
            ],
            "text/html": []
          },
          "metadata": {}
        },
        {
          "output_type": "display_data",
          "data": {
            "text/plain": [
              "<IPython.core.display.HTML object>"
            ],
            "text/html": [
              "\n",
              "<style>\n",
              "    /* Turns off some styling */\n",
              "    progress {\n",
              "        /* gets rid of default border in Firefox and Opera. */\n",
              "        border: none;\n",
              "        /* Needs to be in here for Safari polyfill so background images work as expected. */\n",
              "        background-size: auto;\n",
              "    }\n",
              "    progress:not([value]), progress:not([value])::-webkit-progress-bar {\n",
              "        background: repeating-linear-gradient(45deg, #7e7e7e, #7e7e7e 10px, #5c5c5c 10px, #5c5c5c 20px);\n",
              "    }\n",
              "    .progress-bar-interrupted, .progress-bar-interrupted::-webkit-progress-bar {\n",
              "        background: #F44336;\n",
              "    }\n",
              "</style>\n"
            ]
          },
          "metadata": {}
        },
        {
          "output_type": "display_data",
          "data": {
            "text/plain": [
              "<IPython.core.display.HTML object>"
            ],
            "text/html": []
          },
          "metadata": {}
        },
        {
          "output_type": "display_data",
          "data": {
            "text/plain": [
              "<IPython.core.display.HTML object>"
            ],
            "text/html": [
              "\n",
              "<style>\n",
              "    /* Turns off some styling */\n",
              "    progress {\n",
              "        /* gets rid of default border in Firefox and Opera. */\n",
              "        border: none;\n",
              "        /* Needs to be in here for Safari polyfill so background images work as expected. */\n",
              "        background-size: auto;\n",
              "    }\n",
              "    progress:not([value]), progress:not([value])::-webkit-progress-bar {\n",
              "        background: repeating-linear-gradient(45deg, #7e7e7e, #7e7e7e 10px, #5c5c5c 10px, #5c5c5c 20px);\n",
              "    }\n",
              "    .progress-bar-interrupted, .progress-bar-interrupted::-webkit-progress-bar {\n",
              "        background: #F44336;\n",
              "    }\n",
              "</style>\n"
            ]
          },
          "metadata": {}
        },
        {
          "output_type": "display_data",
          "data": {
            "text/plain": [
              "<IPython.core.display.HTML object>"
            ],
            "text/html": []
          },
          "metadata": {}
        },
        {
          "output_type": "display_data",
          "data": {
            "text/plain": [
              "<IPython.core.display.HTML object>"
            ],
            "text/html": [
              "\n",
              "<style>\n",
              "    /* Turns off some styling */\n",
              "    progress {\n",
              "        /* gets rid of default border in Firefox and Opera. */\n",
              "        border: none;\n",
              "        /* Needs to be in here for Safari polyfill so background images work as expected. */\n",
              "        background-size: auto;\n",
              "    }\n",
              "    progress:not([value]), progress:not([value])::-webkit-progress-bar {\n",
              "        background: repeating-linear-gradient(45deg, #7e7e7e, #7e7e7e 10px, #5c5c5c 10px, #5c5c5c 20px);\n",
              "    }\n",
              "    .progress-bar-interrupted, .progress-bar-interrupted::-webkit-progress-bar {\n",
              "        background: #F44336;\n",
              "    }\n",
              "</style>\n"
            ]
          },
          "metadata": {}
        },
        {
          "output_type": "display_data",
          "data": {
            "text/plain": [
              "<IPython.core.display.HTML object>"
            ],
            "text/html": []
          },
          "metadata": {}
        },
        {
          "output_type": "display_data",
          "data": {
            "text/plain": [
              "<IPython.core.display.HTML object>"
            ],
            "text/html": [
              "\n",
              "<style>\n",
              "    /* Turns off some styling */\n",
              "    progress {\n",
              "        /* gets rid of default border in Firefox and Opera. */\n",
              "        border: none;\n",
              "        /* Needs to be in here for Safari polyfill so background images work as expected. */\n",
              "        background-size: auto;\n",
              "    }\n",
              "    progress:not([value]), progress:not([value])::-webkit-progress-bar {\n",
              "        background: repeating-linear-gradient(45deg, #7e7e7e, #7e7e7e 10px, #5c5c5c 10px, #5c5c5c 20px);\n",
              "    }\n",
              "    .progress-bar-interrupted, .progress-bar-interrupted::-webkit-progress-bar {\n",
              "        background: #F44336;\n",
              "    }\n",
              "</style>\n"
            ]
          },
          "metadata": {}
        },
        {
          "output_type": "display_data",
          "data": {
            "text/plain": [
              "<IPython.core.display.HTML object>"
            ],
            "text/html": []
          },
          "metadata": {}
        }
      ]
    },
    {
      "cell_type": "markdown",
      "source": [
        "now we stack the predictions together and take the average prediction:"
      ],
      "metadata": {
        "id": "tv7OnZax7CFC"
      }
    },
    {
      "cell_type": "code",
      "source": [
        "ens_preds = torch.stack(learns).mean(0)\n",
        "ens_preds"
      ],
      "metadata": {
        "colab": {
          "base_uri": "https://localhost:8080/"
        },
        "id": "EVTiwF1K63pe",
        "outputId": "ef97b438-c1c2-4c1c-9b75-ba5de2bcb1ff"
      },
      "execution_count": 36,
      "outputs": [
        {
          "output_type": "execute_result",
          "data": {
            "text/plain": [
              "tensor([[0.9163, 0.0837],\n",
              "        [0.5153, 0.4847],\n",
              "        [0.9342, 0.0658],\n",
              "        [0.8925, 0.1075],\n",
              "        [0.4890, 0.5110],\n",
              "        [0.8660, 0.1340],\n",
              "        [0.4284, 0.5716],\n",
              "        [0.8542, 0.1458],\n",
              "        [0.3340, 0.6660],\n",
              "        [0.8949, 0.1051],\n",
              "        [0.9268, 0.0732],\n",
              "        [0.8680, 0.1320],\n",
              "        [0.0290, 0.9710],\n",
              "        [0.8369, 0.1631],\n",
              "        [0.0180, 0.9820],\n",
              "        [0.0311, 0.9689],\n",
              "        [0.9068, 0.0932],\n",
              "        [0.7559, 0.2441],\n",
              "        [0.5308, 0.4692],\n",
              "        [0.5366, 0.4634],\n",
              "        [0.7516, 0.2484],\n",
              "        [0.5120, 0.4880],\n",
              "        [0.0847, 0.9153],\n",
              "        [0.6607, 0.3393],\n",
              "        [0.1731, 0.8269],\n",
              "        [0.9626, 0.0374],\n",
              "        [0.0255, 0.9745],\n",
              "        [0.7756, 0.2244],\n",
              "        [0.7827, 0.2173],\n",
              "        [0.8782, 0.1218],\n",
              "        [0.9290, 0.0710],\n",
              "        [0.9145, 0.0855],\n",
              "        [0.6232, 0.3768],\n",
              "        [0.6061, 0.3939],\n",
              "        [0.6763, 0.3237],\n",
              "        [0.7260, 0.2740],\n",
              "        [0.6178, 0.3822],\n",
              "        [0.5555, 0.4445],\n",
              "        [0.8883, 0.1117],\n",
              "        [0.8924, 0.1076],\n",
              "        [0.8798, 0.1202],\n",
              "        [0.1120, 0.8880],\n",
              "        [0.9203, 0.0797],\n",
              "        [0.1415, 0.8585],\n",
              "        [0.0179, 0.9821],\n",
              "        [0.8947, 0.1053],\n",
              "        [0.6571, 0.3429],\n",
              "        [0.9148, 0.0852],\n",
              "        [0.0412, 0.9588],\n",
              "        [0.5129, 0.4871],\n",
              "        [0.7842, 0.2158],\n",
              "        [0.8090, 0.1910],\n",
              "        [0.0465, 0.9535],\n",
              "        [0.0397, 0.9603],\n",
              "        [0.8653, 0.1347],\n",
              "        [0.8397, 0.1603],\n",
              "        [0.9048, 0.0952],\n",
              "        [0.8708, 0.1292],\n",
              "        [0.9190, 0.0810],\n",
              "        [0.0467, 0.9533],\n",
              "        [0.8836, 0.1164],\n",
              "        [0.9084, 0.0916],\n",
              "        [0.8877, 0.1123],\n",
              "        [0.3691, 0.6309],\n",
              "        [0.3976, 0.6024],\n",
              "        [0.1135, 0.8865],\n",
              "        [0.3290, 0.6710],\n",
              "        [0.8707, 0.1293],\n",
              "        [0.4307, 0.5693],\n",
              "        [0.1644, 0.8356],\n",
              "        [0.3819, 0.6181],\n",
              "        [0.8932, 0.1068],\n",
              "        [0.6158, 0.3842],\n",
              "        [0.0854, 0.9146],\n",
              "        [0.0367, 0.9633],\n",
              "        [0.4862, 0.5138],\n",
              "        [0.9264, 0.0736],\n",
              "        [0.0756, 0.9244],\n",
              "        [0.9100, 0.0900],\n",
              "        [0.3819, 0.6181],\n",
              "        [0.3413, 0.6587],\n",
              "        [0.7034, 0.2966],\n",
              "        [0.8754, 0.1246],\n",
              "        [0.9268, 0.0732],\n",
              "        [0.9144, 0.0856],\n",
              "        [0.8731, 0.1269],\n",
              "        [0.4041, 0.5959],\n",
              "        [0.5203, 0.4797],\n",
              "        [0.2980, 0.7020],\n",
              "        [0.1693, 0.8307],\n",
              "        [0.5306, 0.4694],\n",
              "        [0.9272, 0.0728],\n",
              "        [0.0459, 0.9541],\n",
              "        [0.9264, 0.0736],\n",
              "        [0.6281, 0.3719],\n",
              "        [0.8952, 0.1048],\n",
              "        [0.1178, 0.8822],\n",
              "        [0.8963, 0.1037],\n",
              "        [0.5452, 0.4548],\n",
              "        [0.9001, 0.0999],\n",
              "        [0.0207, 0.9793],\n",
              "        [0.8899, 0.1101],\n",
              "        [0.9148, 0.0852],\n",
              "        [0.8956, 0.1044],\n",
              "        [0.2700, 0.7300],\n",
              "        [0.8309, 0.1691],\n",
              "        [0.8547, 0.1453],\n",
              "        [0.9148, 0.0852],\n",
              "        [0.9246, 0.0754],\n",
              "        [0.8283, 0.1717],\n",
              "        [0.8351, 0.1649],\n",
              "        [0.2978, 0.7022],\n",
              "        [0.0506, 0.9494],\n",
              "        [0.3364, 0.6636],\n",
              "        [0.0368, 0.9632],\n",
              "        [0.7084, 0.2916],\n",
              "        [0.8847, 0.1153],\n",
              "        [0.1831, 0.8169],\n",
              "        [0.5937, 0.4063],\n",
              "        [0.0589, 0.9411],\n",
              "        [0.0975, 0.9025],\n",
              "        [0.9502, 0.0498],\n",
              "        [0.0195, 0.9805],\n",
              "        [0.8983, 0.1017],\n",
              "        [0.9148, 0.0852],\n",
              "        [0.4230, 0.5770],\n",
              "        [0.8943, 0.1057],\n",
              "        [0.3139, 0.6861],\n",
              "        [0.9195, 0.0805],\n",
              "        [0.8936, 0.1064],\n",
              "        [0.8984, 0.1016],\n",
              "        [0.7290, 0.2710],\n",
              "        [0.3528, 0.6472],\n",
              "        [0.8565, 0.1435],\n",
              "        [0.9250, 0.0750],\n",
              "        [0.8944, 0.1056],\n",
              "        [0.8244, 0.1756],\n",
              "        [0.9108, 0.0892],\n",
              "        [0.5763, 0.4237],\n",
              "        [0.9012, 0.0988],\n",
              "        [0.3934, 0.6066],\n",
              "        [0.0656, 0.9344],\n",
              "        [0.8939, 0.1061],\n",
              "        [0.8871, 0.1129],\n",
              "        [0.8564, 0.1436],\n",
              "        [0.9510, 0.0490],\n",
              "        [0.1262, 0.8738],\n",
              "        [0.8933, 0.1067],\n",
              "        [0.8444, 0.1556],\n",
              "        [0.8832, 0.1168],\n",
              "        [0.0218, 0.9782],\n",
              "        [0.8818, 0.1182],\n",
              "        [0.9719, 0.0281],\n",
              "        [0.6308, 0.3692],\n",
              "        [0.8460, 0.1540],\n",
              "        [0.8957, 0.1043],\n",
              "        [0.0388, 0.9612],\n",
              "        [0.5764, 0.4236],\n",
              "        [0.2021, 0.7979],\n",
              "        [0.6235, 0.3765],\n",
              "        [0.2981, 0.7019],\n",
              "        [0.3420, 0.6580],\n",
              "        [0.1383, 0.8617],\n",
              "        [0.9294, 0.0706],\n",
              "        [0.9180, 0.0820],\n",
              "        [0.5599, 0.4401],\n",
              "        [0.6959, 0.3041],\n",
              "        [0.8340, 0.1660],\n",
              "        [0.0483, 0.9517],\n",
              "        [0.5662, 0.4338],\n",
              "        [0.9278, 0.0722],\n",
              "        [0.8299, 0.1701],\n",
              "        [0.8874, 0.1126],\n",
              "        [0.8831, 0.1169],\n",
              "        [0.9317, 0.0683],\n",
              "        [0.0341, 0.9659],\n",
              "        [0.0962, 0.9038],\n",
              "        [0.7298, 0.2702],\n",
              "        [0.0619, 0.9381],\n",
              "        [0.1061, 0.8939],\n",
              "        [0.9100, 0.0900],\n",
              "        [0.1803, 0.8197],\n",
              "        [0.0162, 0.9838],\n",
              "        [0.9148, 0.0852],\n",
              "        [0.0266, 0.9734],\n",
              "        [0.9131, 0.0869],\n",
              "        [0.0622, 0.9378],\n",
              "        [0.8888, 0.1112],\n",
              "        [0.6530, 0.3470],\n",
              "        [0.9167, 0.0833],\n",
              "        [0.9057, 0.0943],\n",
              "        [0.8455, 0.1545],\n",
              "        [0.6854, 0.3146],\n",
              "        [0.9280, 0.0720],\n",
              "        [0.2283, 0.7717],\n",
              "        [0.9007, 0.0993],\n",
              "        [0.0306, 0.9694],\n",
              "        [0.5214, 0.4786],\n",
              "        [0.9194, 0.0806],\n",
              "        [0.6176, 0.3824],\n",
              "        [0.2703, 0.7297],\n",
              "        [0.2172, 0.7828],\n",
              "        [0.7090, 0.2910],\n",
              "        [0.0348, 0.9652],\n",
              "        [0.9181, 0.0819],\n",
              "        [0.7641, 0.2359],\n",
              "        [0.4717, 0.5283],\n",
              "        [0.9188, 0.0812],\n",
              "        [0.0514, 0.9486],\n",
              "        [0.8948, 0.1052],\n",
              "        [0.8427, 0.1573],\n",
              "        [0.9293, 0.0707],\n",
              "        [0.8350, 0.1650],\n",
              "        [0.1352, 0.8648],\n",
              "        [0.5086, 0.4914],\n",
              "        [0.7825, 0.2175],\n",
              "        [0.2973, 0.7027],\n",
              "        [0.8636, 0.1364],\n",
              "        [0.0770, 0.9230],\n",
              "        [0.9264, 0.0736],\n",
              "        [0.0402, 0.9598],\n",
              "        [0.8926, 0.1074],\n",
              "        [0.0823, 0.9177],\n",
              "        [0.8936, 0.1064],\n",
              "        [0.0664, 0.9336],\n",
              "        [0.2999, 0.7001],\n",
              "        [0.8944, 0.1056],\n",
              "        [0.2980, 0.7020],\n",
              "        [0.9130, 0.0870],\n",
              "        [0.9124, 0.0876],\n",
              "        [0.7949, 0.2051],\n",
              "        [0.0988, 0.9012],\n",
              "        [0.8611, 0.1389],\n",
              "        [0.9146, 0.0854],\n",
              "        [0.7300, 0.2700],\n",
              "        [0.8921, 0.1079],\n",
              "        [0.7093, 0.2907],\n",
              "        [0.7431, 0.2569],\n",
              "        [0.0477, 0.9523],\n",
              "        [0.0140, 0.9860],\n",
              "        [0.0670, 0.9330],\n",
              "        [0.0611, 0.9389],\n",
              "        [0.3743, 0.6257],\n",
              "        [0.9269, 0.0731],\n",
              "        [0.9422, 0.0578],\n",
              "        [0.4587, 0.5413],\n",
              "        [0.1221, 0.8779],\n",
              "        [0.9499, 0.0501],\n",
              "        [0.0589, 0.9411],\n",
              "        [0.4491, 0.5509],\n",
              "        [0.0242, 0.9758],\n",
              "        [0.8919, 0.1081],\n",
              "        [0.6345, 0.3655],\n",
              "        [0.8886, 0.1114],\n",
              "        [0.8951, 0.1049],\n",
              "        [0.9278, 0.0722],\n",
              "        [0.9148, 0.0852],\n",
              "        [0.8953, 0.1047],\n",
              "        [0.1241, 0.8759],\n",
              "        [0.8937, 0.1063],\n",
              "        [0.9343, 0.0657],\n",
              "        [0.8934, 0.1066],\n",
              "        [0.0841, 0.9159],\n",
              "        [0.3486, 0.6514],\n",
              "        [0.8413, 0.1587],\n",
              "        [0.9268, 0.0732],\n",
              "        [0.9497, 0.0503],\n",
              "        [0.9278, 0.0722],\n",
              "        [0.6178, 0.3822],\n",
              "        [0.8808, 0.1192],\n",
              "        [0.6978, 0.3022],\n",
              "        [0.9148, 0.0852],\n",
              "        [0.0126, 0.9874],\n",
              "        [0.1704, 0.8296],\n",
              "        [0.8831, 0.1169],\n",
              "        [0.0482, 0.9518],\n",
              "        [0.9177, 0.0823],\n",
              "        [0.9179, 0.0821],\n",
              "        [0.9161, 0.0839],\n",
              "        [0.9190, 0.0810],\n",
              "        [0.5752, 0.4248],\n",
              "        [0.4946, 0.5054],\n",
              "        [0.2980, 0.7020],\n",
              "        [0.3153, 0.6847],\n",
              "        [0.2321, 0.7679],\n",
              "        [0.9085, 0.0915],\n",
              "        [0.9287, 0.0713],\n",
              "        [0.7897, 0.2103],\n",
              "        [0.8141, 0.1859],\n",
              "        [0.9264, 0.0736],\n",
              "        [0.8369, 0.1631],\n",
              "        [0.4323, 0.5677],\n",
              "        [0.8831, 0.1169],\n",
              "        [0.9016, 0.0984],\n",
              "        [0.9055, 0.0945],\n",
              "        [0.8951, 0.1049],\n",
              "        [0.0291, 0.9709],\n",
              "        [0.8782, 0.1218],\n",
              "        [0.8094, 0.1906],\n",
              "        [0.8966, 0.1034],\n",
              "        [0.8994, 0.1006],\n",
              "        [0.0963, 0.9037],\n",
              "        [0.9374, 0.0626],\n",
              "        [0.8912, 0.1088],\n",
              "        [0.2980, 0.7020],\n",
              "        [0.0948, 0.9052],\n",
              "        [0.7954, 0.2046],\n",
              "        [0.3650, 0.6350],\n",
              "        [0.9067, 0.0933],\n",
              "        [0.4760, 0.5240],\n",
              "        [0.8842, 0.1158],\n",
              "        [0.7690, 0.2310],\n",
              "        [0.9278, 0.0722],\n",
              "        [0.4806, 0.5194],\n",
              "        [0.0339, 0.9661],\n",
              "        [0.3180, 0.6820],\n",
              "        [0.7363, 0.2637],\n",
              "        [0.9097, 0.0903],\n",
              "        [0.8955, 0.1045],\n",
              "        [0.9089, 0.0911],\n",
              "        [0.8956, 0.1044],\n",
              "        [0.7467, 0.2533],\n",
              "        [0.8892, 0.1108],\n",
              "        [0.8289, 0.1711],\n",
              "        [0.0586, 0.9414],\n",
              "        [0.8977, 0.1023],\n",
              "        [0.0420, 0.9580],\n",
              "        [0.7594, 0.2406],\n",
              "        [0.8946, 0.1054],\n",
              "        [0.9113, 0.0887],\n",
              "        [0.0808, 0.9192],\n",
              "        [0.5887, 0.4113],\n",
              "        [0.8831, 0.1169],\n",
              "        [0.3045, 0.6955],\n",
              "        [0.8954, 0.1046],\n",
              "        [0.6430, 0.3570],\n",
              "        [0.9097, 0.0903],\n",
              "        [0.8295, 0.1705],\n",
              "        [0.8692, 0.1308],\n",
              "        [0.8831, 0.1169],\n",
              "        [0.9038, 0.0962],\n",
              "        [0.9002, 0.0998],\n",
              "        [0.7315, 0.2685],\n",
              "        [0.0153, 0.9847],\n",
              "        [0.9288, 0.0712],\n",
              "        [0.4962, 0.5038],\n",
              "        [0.9108, 0.0892],\n",
              "        [0.5011, 0.4989],\n",
              "        [0.9104, 0.0896],\n",
              "        [0.1167, 0.8833],\n",
              "        [0.0188, 0.9812],\n",
              "        [0.9181, 0.0819],\n",
              "        [0.8405, 0.1595],\n",
              "        [0.9766, 0.0234],\n",
              "        [0.2296, 0.7704],\n",
              "        [0.3995, 0.6005],\n",
              "        [0.0661, 0.9339],\n",
              "        [0.9269, 0.0731],\n",
              "        [0.9148, 0.0852],\n",
              "        [0.4954, 0.5046],\n",
              "        [0.9536, 0.0464],\n",
              "        [0.0592, 0.9408],\n",
              "        [0.1342, 0.8658],\n",
              "        [0.8925, 0.1075],\n",
              "        [0.0110, 0.9890],\n",
              "        [0.5829, 0.4171],\n",
              "        [0.8578, 0.1422],\n",
              "        [0.4894, 0.5106],\n",
              "        [0.0312, 0.9688],\n",
              "        [0.8328, 0.1672],\n",
              "        [0.8713, 0.1287],\n",
              "        [0.0254, 0.9746],\n",
              "        [0.9211, 0.0789],\n",
              "        [0.9224, 0.0776],\n",
              "        [0.0737, 0.9263],\n",
              "        [0.0731, 0.9269],\n",
              "        [0.5274, 0.4726],\n",
              "        [0.9147, 0.0853],\n",
              "        [0.8514, 0.1486],\n",
              "        [0.7375, 0.2625],\n",
              "        [0.9148, 0.0852],\n",
              "        [0.8770, 0.1230],\n",
              "        [0.6059, 0.3941],\n",
              "        [0.4907, 0.5093],\n",
              "        [0.9307, 0.0693],\n",
              "        [0.0874, 0.9126],\n",
              "        [0.8948, 0.1052],\n",
              "        [0.9294, 0.0706],\n",
              "        [0.8549, 0.1451],\n",
              "        [0.6707, 0.3293],\n",
              "        [0.6250, 0.3750],\n",
              "        [0.0377, 0.9623],\n",
              "        [0.5010, 0.4990],\n",
              "        [0.9292, 0.0708],\n",
              "        [0.9541, 0.0459],\n",
              "        [0.0380, 0.9620],\n",
              "        [0.8691, 0.1309],\n",
              "        [0.0392, 0.9608],\n",
              "        [0.8944, 0.1056],\n",
              "        [0.8997, 0.1003],\n",
              "        [0.0353, 0.9647],\n",
              "        [0.9170, 0.0830],\n",
              "        [0.0330, 0.9670],\n",
              "        [0.7127, 0.2873],\n",
              "        [0.3005, 0.6995],\n",
              "        [0.0773, 0.9227],\n",
              "        [0.8801, 0.1199],\n",
              "        [0.7528, 0.2472],\n",
              "        [0.2982, 0.7018],\n",
              "        [0.4553, 0.5447],\n",
              "        [0.2980, 0.7020],\n",
              "        [0.0081, 0.9919],\n",
              "        [0.6116, 0.3884],\n",
              "        [0.9264, 0.0736],\n",
              "        [0.0310, 0.9690],\n",
              "        [0.9152, 0.0848],\n",
              "        [0.9264, 0.0736],\n",
              "        [0.8029, 0.1971]])"
            ]
          },
          "metadata": {},
          "execution_count": 36
        }
      ]
    }
  ]
}