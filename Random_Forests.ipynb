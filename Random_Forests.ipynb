{
  "nbformat": 4,
  "nbformat_minor": 0,
  "metadata": {
    "colab": {
      "provenance": [],
      "authorship_tag": "ABX9TyOZrk/Bay8xxgE8GzWXMj8p",
      "include_colab_link": true
    },
    "kernelspec": {
      "name": "python3",
      "display_name": "Python 3"
    },
    "language_info": {
      "name": "python"
    },
    "widgets": {
      "application/vnd.jupyter.widget-state+json": {
        "c946a56ecc2a4b4ca753bc01a45cd7d1": {
          "model_module": "@jupyter-widgets/controls",
          "model_name": "VBoxModel",
          "model_module_version": "1.5.0",
          "state": {
            "_dom_classes": [
              "widget-interact"
            ],
            "_model_module": "@jupyter-widgets/controls",
            "_model_module_version": "1.5.0",
            "_model_name": "VBoxModel",
            "_view_count": null,
            "_view_module": "@jupyter-widgets/controls",
            "_view_module_version": "1.5.0",
            "_view_name": "VBoxView",
            "box_style": "",
            "children": [
              "IPY_MODEL_f0f74aab2f264bb2bf25a4a87d5fa589",
              "IPY_MODEL_416f6ec7909343918040d6d93c88601f",
              "IPY_MODEL_ea6ffc435281469e87029887a4b32c5c"
            ],
            "layout": "IPY_MODEL_3d52a56921284b9c9a534159e8317261"
          }
        },
        "f0f74aab2f264bb2bf25a4a87d5fa589": {
          "model_module": "@jupyter-widgets/controls",
          "model_name": "DropdownModel",
          "model_module_version": "1.5.0",
          "state": {
            "_dom_classes": [],
            "_model_module": "@jupyter-widgets/controls",
            "_model_module_version": "1.5.0",
            "_model_name": "DropdownModel",
            "_options_labels": [
              "Age",
              "SibSp",
              "Parch",
              "LogFare",
              "Pclass"
            ],
            "_view_count": null,
            "_view_module": "@jupyter-widgets/controls",
            "_view_module_version": "1.5.0",
            "_view_name": "DropdownView",
            "description": "nm",
            "description_tooltip": null,
            "disabled": false,
            "index": 1,
            "layout": "IPY_MODEL_a2fd93820ade47ed9b83a19911dd8bf9",
            "style": "IPY_MODEL_50f3a682831f4defa22b4cbaf7b493aa"
          }
        },
        "416f6ec7909343918040d6d93c88601f": {
          "model_module": "@jupyter-widgets/controls",
          "model_name": "FloatSliderModel",
          "model_module_version": "1.5.0",
          "state": {
            "_dom_classes": [],
            "_model_module": "@jupyter-widgets/controls",
            "_model_module_version": "1.5.0",
            "_model_name": "FloatSliderModel",
            "_view_count": null,
            "_view_module": "@jupyter-widgets/controls",
            "_view_module_version": "1.5.0",
            "_view_name": "FloatSliderView",
            "continuous_update": true,
            "description": "split",
            "description_tooltip": null,
            "disabled": false,
            "layout": "IPY_MODEL_b8c0c06ebea74d0da1b4befb4403f4fb",
            "max": 46.5,
            "min": -15.5,
            "orientation": "horizontal",
            "readout": true,
            "readout_format": ".2f",
            "step": 0.1,
            "style": "IPY_MODEL_581b72cb0bdd4efb9b0377e6a60f3368",
            "value": 15.5
          }
        },
        "ea6ffc435281469e87029887a4b32c5c": {
          "model_module": "@jupyter-widgets/output",
          "model_name": "OutputModel",
          "model_module_version": "1.0.0",
          "state": {
            "_dom_classes": [],
            "_model_module": "@jupyter-widgets/output",
            "_model_module_version": "1.0.0",
            "_model_name": "OutputModel",
            "_view_count": null,
            "_view_module": "@jupyter-widgets/output",
            "_view_module_version": "1.0.0",
            "_view_name": "OutputView",
            "layout": "IPY_MODEL_47de65e066a043a1938667d790b076d6",
            "msg_id": "",
            "outputs": [
              {
                "output_type": "display_data",
                "data": {
                  "text/plain": "0.4854373192013831"
                },
                "metadata": {}
              }
            ]
          }
        },
        "3d52a56921284b9c9a534159e8317261": {
          "model_module": "@jupyter-widgets/base",
          "model_name": "LayoutModel",
          "model_module_version": "1.2.0",
          "state": {
            "_model_module": "@jupyter-widgets/base",
            "_model_module_version": "1.2.0",
            "_model_name": "LayoutModel",
            "_view_count": null,
            "_view_module": "@jupyter-widgets/base",
            "_view_module_version": "1.2.0",
            "_view_name": "LayoutView",
            "align_content": null,
            "align_items": null,
            "align_self": null,
            "border": null,
            "bottom": null,
            "display": null,
            "flex": null,
            "flex_flow": null,
            "grid_area": null,
            "grid_auto_columns": null,
            "grid_auto_flow": null,
            "grid_auto_rows": null,
            "grid_column": null,
            "grid_gap": null,
            "grid_row": null,
            "grid_template_areas": null,
            "grid_template_columns": null,
            "grid_template_rows": null,
            "height": null,
            "justify_content": null,
            "justify_items": null,
            "left": null,
            "margin": null,
            "max_height": null,
            "max_width": null,
            "min_height": null,
            "min_width": null,
            "object_fit": null,
            "object_position": null,
            "order": null,
            "overflow": null,
            "overflow_x": null,
            "overflow_y": null,
            "padding": null,
            "right": null,
            "top": null,
            "visibility": null,
            "width": null
          }
        },
        "a2fd93820ade47ed9b83a19911dd8bf9": {
          "model_module": "@jupyter-widgets/base",
          "model_name": "LayoutModel",
          "model_module_version": "1.2.0",
          "state": {
            "_model_module": "@jupyter-widgets/base",
            "_model_module_version": "1.2.0",
            "_model_name": "LayoutModel",
            "_view_count": null,
            "_view_module": "@jupyter-widgets/base",
            "_view_module_version": "1.2.0",
            "_view_name": "LayoutView",
            "align_content": null,
            "align_items": null,
            "align_self": null,
            "border": null,
            "bottom": null,
            "display": null,
            "flex": null,
            "flex_flow": null,
            "grid_area": null,
            "grid_auto_columns": null,
            "grid_auto_flow": null,
            "grid_auto_rows": null,
            "grid_column": null,
            "grid_gap": null,
            "grid_row": null,
            "grid_template_areas": null,
            "grid_template_columns": null,
            "grid_template_rows": null,
            "height": null,
            "justify_content": null,
            "justify_items": null,
            "left": null,
            "margin": null,
            "max_height": null,
            "max_width": null,
            "min_height": null,
            "min_width": null,
            "object_fit": null,
            "object_position": null,
            "order": null,
            "overflow": null,
            "overflow_x": null,
            "overflow_y": null,
            "padding": null,
            "right": null,
            "top": null,
            "visibility": null,
            "width": null
          }
        },
        "50f3a682831f4defa22b4cbaf7b493aa": {
          "model_module": "@jupyter-widgets/controls",
          "model_name": "DescriptionStyleModel",
          "model_module_version": "1.5.0",
          "state": {
            "_model_module": "@jupyter-widgets/controls",
            "_model_module_version": "1.5.0",
            "_model_name": "DescriptionStyleModel",
            "_view_count": null,
            "_view_module": "@jupyter-widgets/base",
            "_view_module_version": "1.2.0",
            "_view_name": "StyleView",
            "description_width": ""
          }
        },
        "b8c0c06ebea74d0da1b4befb4403f4fb": {
          "model_module": "@jupyter-widgets/base",
          "model_name": "LayoutModel",
          "model_module_version": "1.2.0",
          "state": {
            "_model_module": "@jupyter-widgets/base",
            "_model_module_version": "1.2.0",
            "_model_name": "LayoutModel",
            "_view_count": null,
            "_view_module": "@jupyter-widgets/base",
            "_view_module_version": "1.2.0",
            "_view_name": "LayoutView",
            "align_content": null,
            "align_items": null,
            "align_self": null,
            "border": null,
            "bottom": null,
            "display": null,
            "flex": null,
            "flex_flow": null,
            "grid_area": null,
            "grid_auto_columns": null,
            "grid_auto_flow": null,
            "grid_auto_rows": null,
            "grid_column": null,
            "grid_gap": null,
            "grid_row": null,
            "grid_template_areas": null,
            "grid_template_columns": null,
            "grid_template_rows": null,
            "height": null,
            "justify_content": null,
            "justify_items": null,
            "left": null,
            "margin": null,
            "max_height": null,
            "max_width": null,
            "min_height": null,
            "min_width": null,
            "object_fit": null,
            "object_position": null,
            "order": null,
            "overflow": null,
            "overflow_x": null,
            "overflow_y": null,
            "padding": null,
            "right": null,
            "top": null,
            "visibility": null,
            "width": null
          }
        },
        "581b72cb0bdd4efb9b0377e6a60f3368": {
          "model_module": "@jupyter-widgets/controls",
          "model_name": "SliderStyleModel",
          "model_module_version": "1.5.0",
          "state": {
            "_model_module": "@jupyter-widgets/controls",
            "_model_module_version": "1.5.0",
            "_model_name": "SliderStyleModel",
            "_view_count": null,
            "_view_module": "@jupyter-widgets/base",
            "_view_module_version": "1.2.0",
            "_view_name": "StyleView",
            "description_width": "",
            "handle_color": null
          }
        },
        "47de65e066a043a1938667d790b076d6": {
          "model_module": "@jupyter-widgets/base",
          "model_name": "LayoutModel",
          "model_module_version": "1.2.0",
          "state": {
            "_model_module": "@jupyter-widgets/base",
            "_model_module_version": "1.2.0",
            "_model_name": "LayoutModel",
            "_view_count": null,
            "_view_module": "@jupyter-widgets/base",
            "_view_module_version": "1.2.0",
            "_view_name": "LayoutView",
            "align_content": null,
            "align_items": null,
            "align_self": null,
            "border": null,
            "bottom": null,
            "display": null,
            "flex": null,
            "flex_flow": null,
            "grid_area": null,
            "grid_auto_columns": null,
            "grid_auto_flow": null,
            "grid_auto_rows": null,
            "grid_column": null,
            "grid_gap": null,
            "grid_row": null,
            "grid_template_areas": null,
            "grid_template_columns": null,
            "grid_template_rows": null,
            "height": null,
            "justify_content": null,
            "justify_items": null,
            "left": null,
            "margin": null,
            "max_height": null,
            "max_width": null,
            "min_height": null,
            "min_width": null,
            "object_fit": null,
            "object_position": null,
            "order": null,
            "overflow": null,
            "overflow_x": null,
            "overflow_y": null,
            "padding": null,
            "right": null,
            "top": null,
            "visibility": null,
            "width": null
          }
        }
      }
    }
  },
  "cells": [
    {
      "cell_type": "markdown",
      "metadata": {
        "id": "view-in-github",
        "colab_type": "text"
      },
      "source": [
        "<a href=\"https://colab.research.google.com/github/ravidkrisi/Deep-Learning-Introduction/blob/main/Random_Forests.ipynb\" target=\"_parent\"><img src=\"https://colab.research.google.com/assets/colab-badge.svg\" alt=\"Open In Colab\"/></a>"
      ]
    },
    {
      "cell_type": "markdown",
      "source": [
        "we tried so solve the problem of Titanic from Kaggle with neural nets, actully the best way to solve this problem is by using Random Forests. Random forests use the principle of Descision Tree"
      ],
      "metadata": {
        "id": "DzmLXmcmISK0"
      }
    },
    {
      "cell_type": "markdown",
      "source": [
        "## import and set up"
      ],
      "metadata": {
        "id": "sSMzPbmQJSmt"
      }
    },
    {
      "cell_type": "markdown",
      "source": [
        "### import libraries"
      ],
      "metadata": {
        "id": "8rMAGF0MJ5-X"
      }
    },
    {
      "cell_type": "code",
      "execution_count": 1,
      "metadata": {
        "id": "BUxTWlYUIDH3"
      },
      "outputs": [],
      "source": [
        "from fastai.imports import *\n",
        "np.set_printoptions(linewidth=130)"
      ]
    },
    {
      "cell_type": "markdown",
      "source": [
        "### import dataset"
      ],
      "metadata": {
        "id": "_AVbeMfEJ-uC"
      }
    },
    {
      "cell_type": "markdown",
      "source": [
        "mount google drive:"
      ],
      "metadata": {
        "id": "XL1KwC8LKloq"
      }
    },
    {
      "cell_type": "code",
      "source": [
        "# Install the kaggle python library\n",
        "!pip install -q kaggle\n",
        "\n",
        "# Mount your Google Drive.\n",
        "from google.colab import drive\n",
        "drive.mount(\"/content/drive\")\n",
        "\n",
        "# create directory and add the API token\n",
        "! mkdir ~/.kaggle\n",
        "\n",
        "!cp /content/drive/MyDrive/'Colab_Notebooks'/kaggle.json ~/.kaggle/\n",
        "! chmod 600 ~/.kaggle/kaggle.json\n",
        "\n",
        "#check if it worked\n",
        "! kaggle datasets list"
      ],
      "metadata": {
        "colab": {
          "base_uri": "https://localhost:8080/"
        },
        "id": "9qoTMBooKA3E",
        "outputId": "6f926008-dace-4804-bedf-a210dd1a2d87"
      },
      "execution_count": 7,
      "outputs": [
        {
          "output_type": "stream",
          "name": "stdout",
          "text": [
            "Drive already mounted at /content/drive; to attempt to forcibly remount, call drive.mount(\"/content/drive\", force_remount=True).\n",
            "mkdir: cannot create directory ‘/root/.kaggle’: File exists\n",
            "ref                                                               title                                               size  lastUpdated          downloadCount  voteCount  usabilityRating  \n",
            "----------------------------------------------------------------  -------------------------------------------------  -----  -------------------  -------------  ---------  ---------------  \n",
            "nelgiriyewithana/global-youtube-statistics-2023                   Global YouTube Statistics 2023                      60KB  2023-07-28 15:36:38           9266        306  1.0              \n",
            "arjunajn/netflix-watch-log                                        Netflix Watch Log                                  295KB  2023-08-22 08:23:45            555         24  1.0              \n",
            "kapturovalexander/gold-and-silver-prices-2013-2023                Gold and Silver prices (2013-2023)                  80KB  2023-08-27 07:21:58            690         27  1.0              \n",
            "brunoalarcon123/top-200-spotify-songs-dataset                     Top 200 Spotify Songs Dataset                       35MB  2023-08-18 05:36:12           2423         77  1.0              \n",
            "anshtanwar/global-data-on-sustainable-energy                      Global Data on Sustainable Energy (2000-2020)      174KB  2023-08-19 05:22:23           4463         84  1.0              \n",
            "mexwell/us-prisons-dataset                                        ⛓️ US Prisons Dataset                              941KB  2023-08-16 13:55:00            486         27  1.0              \n",
            "andrewgeorgeissac/hotel-price-data-of-cities-in-india-makemytrip  🏨Hotel Price Data of Cities in India (MakeMyTrip)   19KB  2023-08-19 06:43:04            919         31  1.0              \n",
            "joebeachcapital/life-longevity-factors                            Life Longevity Factors                               8KB  2023-08-23 01:01:55            722         31  1.0              \n",
            "nelgiriyewithana/countries-of-the-world-2023                      Global Country Information Dataset 2023             23KB  2023-07-08 20:37:33          14851        581  1.0              \n",
            "kumaranand05/who-suicide-data-1950-2021                           WHO Suicide Data (1950-2021)                         3MB  2023-08-21 13:59:24            489         29  1.0              \n",
            "talhabu/us-regional-sales-data                                    US Regional Sales Data                             195KB  2023-08-14 13:37:46            795         30  1.0              \n",
            "ishanshrivastava28/superstore-sales                               Superstore Sales                                     2MB  2023-08-18 19:01:11           1006         41  1.0              \n",
            "joebeachcapital/loan-default                                      Loan Defaults                                        3MB  2023-08-02 02:28:22           1103         33  1.0              \n",
            "anoopjohny/moon-landings                                          Moon Landings                                        8KB  2023-08-23 22:16:49            547         26  1.0              \n",
            "jjinho/wikipedia-20230701                                         Wikipedia Plaintext (2023-07-01)                    12GB  2023-07-17 01:43:57            473         45  1.0              \n",
            "inductiveanks/employee-salaries-for-different-job-roles           Employee Salaries for different job roles            7KB  2023-08-02 15:11:52            941         25  0.88235295       \n",
            "fiq423ubf/cbse-result-statistics-class-xii-2023                   CBSE Result Statistics Class XII - 2023             881B  2023-08-22 08:50:16            430         30  1.0              \n",
            "jjinho/wikipedia-2023-07-faiss-index                              Wikipedia 2023 07 faiss index                        5GB  2023-07-17 01:57:37            167         13  1.0              \n",
            "guillemservera/forbes-billionaires-1997-2023                      Forbes Billionaires Evolution (1997-2023)            2MB  2023-08-10 19:27:30            614         31  1.0              \n",
            "joebeachcapital/gpa-study-hours                                   GPA Study Hours                                     658B  2023-08-09 23:21:03            982         39  1.0              \n"
          ]
        }
      ]
    },
    {
      "cell_type": "markdown",
      "source": [
        "download dataset from Kaggle:"
      ],
      "metadata": {
        "id": "IYz6V7OUKtum"
      }
    },
    {
      "cell_type": "code",
      "source": [
        "! kaggle competitions download titanic"
      ],
      "metadata": {
        "colab": {
          "base_uri": "https://localhost:8080/"
        },
        "id": "5U3FCOd2K1QQ",
        "outputId": "493d5170-f02e-473b-f080-0f68d8dae7e0"
      },
      "execution_count": 8,
      "outputs": [
        {
          "output_type": "stream",
          "name": "stdout",
          "text": [
            "Downloading titanic.zip to /content\n",
            "\r  0% 0.00/34.1k [00:00<?, ?B/s]\n",
            "\r100% 34.1k/34.1k [00:00<00:00, 59.0MB/s]\n"
          ]
        }
      ]
    },
    {
      "cell_type": "markdown",
      "source": [
        "unarchive file:"
      ],
      "metadata": {
        "id": "hkf6ub37LR88"
      }
    },
    {
      "cell_type": "code",
      "source": [
        "! unzip titanic.zip"
      ],
      "metadata": {
        "colab": {
          "base_uri": "https://localhost:8080/"
        },
        "id": "npT5jHlkLWh6",
        "outputId": "a3f346e0-8497-4bbd-e12b-1e33381c75f3"
      },
      "execution_count": 9,
      "outputs": [
        {
          "output_type": "stream",
          "name": "stdout",
          "text": [
            "Archive:  titanic.zip\n",
            "  inflating: gender_submission.csv   \n",
            "  inflating: test.csv                \n",
            "  inflating: train.csv               \n"
          ]
        }
      ]
    },
    {
      "cell_type": "markdown",
      "source": [
        "## Data Preprocessing"
      ],
      "metadata": {
        "id": "T5O7vCCOJZM2"
      }
    },
    {
      "cell_type": "markdown",
      "source": [
        "import `train.csv` and `test.csv` files:"
      ],
      "metadata": {
        "id": "8ZqIFkgULlzy"
      }
    },
    {
      "cell_type": "code",
      "source": [
        "df = pd.read_csv('train.csv')\n",
        "tst_df = pd.read_csv('test.csv')"
      ],
      "metadata": {
        "id": "lrTlJSewLgnh"
      },
      "execution_count": 11,
      "outputs": []
    },
    {
      "cell_type": "markdown",
      "source": [
        "get all modes value of all columns:"
      ],
      "metadata": {
        "id": "dXrVphqfL-2k"
      }
    },
    {
      "cell_type": "code",
      "source": [
        "modes = df.mode().iloc[0]\n",
        "modes"
      ],
      "metadata": {
        "colab": {
          "base_uri": "https://localhost:8080/"
        },
        "id": "LtASI4kyMa7u",
        "outputId": "69fd65b1-c744-485d-b2dc-57106c2f40f0"
      },
      "execution_count": 13,
      "outputs": [
        {
          "output_type": "execute_result",
          "data": {
            "text/plain": [
              "PassengerId                      1\n",
              "Survived                       0.0\n",
              "Pclass                         3.0\n",
              "Name           Abbing, Mr. Anthony\n",
              "Sex                           male\n",
              "Age                           24.0\n",
              "SibSp                          0.0\n",
              "Parch                          0.0\n",
              "Ticket                        1601\n",
              "Fare                          8.05\n",
              "Cabin                      B96 B98\n",
              "Embarked                         S\n",
              "Name: 0, dtype: object"
            ]
          },
          "metadata": {},
          "execution_count": 13
        }
      ]
    },
    {
      "cell_type": "markdown",
      "source": [
        "create function to process the data:"
      ],
      "metadata": {
        "id": "awcFIfIlMfky"
      }
    },
    {
      "cell_type": "code",
      "source": [
        "def proc_data(df):\n",
        "    df['Fare'] = df.Fare.fillna(0) # we want to fill null values in fare with 0\n",
        "    df.fillna(modes, inplace=True) # fill all null values in all df with mode values\n",
        "    df['LogFare'] = np.log1p(df['Fare']) # create new column of normalized fare\n",
        "    df['Embarked'] = pd.Categorical(df.Embarked) # convert embarked column to numeric categorical\n",
        "    df['Sex'] = pd.Categorical(df.Sex) # convert Sex column to numeric categorical"
      ],
      "metadata": {
        "id": "8sDxnCYMMjRr"
      },
      "execution_count": 14,
      "outputs": []
    },
    {
      "cell_type": "markdown",
      "source": [
        "`.Categorical()`- convert a column to categorical type. it keeps the original value but behind the scenes they are stored as integers."
      ],
      "metadata": {
        "id": "dy0c_zM0QG5g"
      }
    },
    {
      "cell_type": "markdown",
      "source": [
        "process both data frame of `train` and `test`:"
      ],
      "metadata": {
        "id": "0yPMvArzNGpL"
      }
    },
    {
      "cell_type": "code",
      "source": [
        "proc_data(df)\n",
        "proc_data(tst_df)"
      ],
      "metadata": {
        "id": "u2zFhiyYNSRp"
      },
      "execution_count": null,
      "outputs": []
    },
    {
      "cell_type": "markdown",
      "source": [
        "make a list of categorical, continous and dependent variable:"
      ],
      "metadata": {
        "id": "7MlOqtR1PX9A"
      }
    },
    {
      "cell_type": "code",
      "source": [
        "cats=[\"Sex\",\"Embarked\"]\n",
        "conts=['Age', 'SibSp', 'Parch', 'LogFare',\"Pclass\"]\n",
        "dep=\"Survived\""
      ],
      "metadata": {
        "id": "aBQud2FOPgut"
      },
      "execution_count": 20,
      "outputs": []
    },
    {
      "cell_type": "markdown",
      "source": [
        "split our data to training validation sets:"
      ],
      "metadata": {
        "id": "7HGCwzTIWAHQ"
      }
    },
    {
      "cell_type": "code",
      "source": [
        "from numpy import random\n",
        "from sklearn.model_selection import train_test_split\n",
        "\n",
        "random.seed(42)\n",
        "trn_df,val_df = train_test_split(df, test_size=0.25)"
      ],
      "metadata": {
        "id": "gciuJCicQqJ2"
      },
      "execution_count": 21,
      "outputs": []
    },
    {
      "cell_type": "markdown",
      "source": [
        "replace in categorical columns original value with integer value, because its essential in some models:"
      ],
      "metadata": {
        "id": "TBXWrcokWSr9"
      }
    },
    {
      "cell_type": "code",
      "source": [
        "trn_df[cats] = trn_df[cats].apply(lambda x: x.cat.codes)\n",
        "val_df[cats] = val_df[cats].apply(lambda x: x.cat.codes)"
      ],
      "metadata": {
        "id": "JIi5LmkVWkAj"
      },
      "execution_count": 22,
      "outputs": []
    },
    {
      "cell_type": "markdown",
      "source": [
        "create depenedent varibable and independent variables:"
      ],
      "metadata": {
        "id": "il1pFHtiWszr"
      }
    },
    {
      "cell_type": "code",
      "source": [
        "def xs_y(df):\n",
        "    xs = df[cats+conts].copy()\n",
        "    return xs,df[dep] if dep in df else None\n",
        "\n",
        "trn_xs,trn_y = xs_y(trn_df)\n",
        "val_xs,val_y = xs_y(val_df)"
      ],
      "metadata": {
        "id": "E2yq-LBSWyvP"
      },
      "execution_count": 24,
      "outputs": []
    },
    {
      "cell_type": "code",
      "source": [
        "preds = val_xs.Sex==0\n",
        "preds"
      ],
      "metadata": {
        "id": "lJHQh5iFWnie"
      },
      "execution_count": null,
      "outputs": []
    },
    {
      "cell_type": "markdown",
      "source": [
        "## Binary Split"
      ],
      "metadata": {
        "id": "5TD32rZ1a6AW"
      }
    },
    {
      "cell_type": "markdown",
      "source": [
        "using with Decision tree we need to identify the feature we want to split by and its threshold. the best way to split our data is that in each group we have to lowest score of impurity."
      ],
      "metadata": {
        "id": "ZsBn9lqua8Ft"
      }
    },
    {
      "cell_type": "markdown",
      "source": [
        "we will create function that score each group after the split:"
      ],
      "metadata": {
        "id": "iHwo8qZybsi4"
      }
    },
    {
      "cell_type": "code",
      "source": [
        "def _side_score(side, y):\n",
        "    tot = side.sum()\n",
        "    if tot<=1: return 0\n",
        "    return y[side].std()*tot"
      ],
      "metadata": {
        "id": "fcAjNe5kbx1Y"
      },
      "execution_count": 26,
      "outputs": []
    },
    {
      "cell_type": "markdown",
      "source": [
        "and we will create function the calculate to score of the split by given feature and threshold:  "
      ],
      "metadata": {
        "id": "yRGHuteub2He"
      }
    },
    {
      "cell_type": "code",
      "source": [
        "def score(col, y, split):\n",
        "    lhs = col<=split\n",
        "    return (_side_score(lhs,y) + _side_score(~lhs,y))/len(y)"
      ],
      "metadata": {
        "id": "rU8r4EKocHW0"
      },
      "execution_count": 27,
      "outputs": []
    },
    {
      "cell_type": "markdown",
      "source": [
        "defination of score: `score=0` the data is the most pure as possible. `score=1` data is the most impurity."
      ],
      "metadata": {
        "id": "9ofzpIs_c6IW"
      }
    },
    {
      "cell_type": "markdown",
      "source": [
        "we will see the best threshold for the continous variables using interactive widget:"
      ],
      "metadata": {
        "id": "yaYttr57cNcU"
      }
    },
    {
      "cell_type": "code",
      "source": [
        "def iscore(nm, split):\n",
        "    col = trn_xs[nm]\n",
        "    return score(col, trn_y, split)\n",
        "\n",
        "from ipywidgets import interact\n",
        "interact(nm=conts, split=15.5)(iscore);"
      ],
      "metadata": {
        "colab": {
          "base_uri": "https://localhost:8080/",
          "height": 98,
          "referenced_widgets": [
            "c946a56ecc2a4b4ca753bc01a45cd7d1",
            "f0f74aab2f264bb2bf25a4a87d5fa589",
            "416f6ec7909343918040d6d93c88601f",
            "ea6ffc435281469e87029887a4b32c5c",
            "3d52a56921284b9c9a534159e8317261",
            "a2fd93820ade47ed9b83a19911dd8bf9",
            "50f3a682831f4defa22b4cbaf7b493aa",
            "b8c0c06ebea74d0da1b4befb4403f4fb",
            "581b72cb0bdd4efb9b0377e6a60f3368",
            "47de65e066a043a1938667d790b076d6"
          ]
        },
        "id": "X67sO-mAcRsJ",
        "outputId": "7ea7e00f-1843-4a16-9484-c12dd35c3662"
      },
      "execution_count": 29,
      "outputs": [
        {
          "output_type": "display_data",
          "data": {
            "text/plain": [
              "interactive(children=(Dropdown(description='nm', options=('Age', 'SibSp', 'Parch', 'LogFare', 'Pclass'), value…"
            ],
            "application/vnd.jupyter.widget-view+json": {
              "version_major": 2,
              "version_minor": 0,
              "model_id": "c946a56ecc2a4b4ca753bc01a45cd7d1"
            }
          },
          "metadata": {}
        }
      ]
    },
    {
      "cell_type": "markdown",
      "source": [
        "that was a nice visualization but if we had a lot of features and each one of them had a lot of unique values it would be really hard to do it manually. so let give the computer to compute the best threshold for each feature:"
      ],
      "metadata": {
        "id": "ImOKqNwhemm1"
      }
    },
    {
      "cell_type": "code",
      "source": [
        "def min_col(df, nm):\n",
        "    col,y = df[nm],df[dep]\n",
        "    unq = col.dropna().unique() # we will extract all unique values in a column\n",
        "    scores = np.array([score(col, y, o) for o in unq if not np.isnan(o)]) # we will calculate each threshold from the unique values\n",
        "    idx = scores.argmin()\n",
        "    return unq[idx],scores[idx]"
      ],
      "metadata": {
        "id": "e-dkdD-Ze70g"
      },
      "execution_count": 31,
      "outputs": []
    },
    {
      "cell_type": "markdown",
      "source": [
        "lets try the function for all columns:"
      ],
      "metadata": {
        "id": "ctfzhZe1f4Wf"
      }
    },
    {
      "cell_type": "code",
      "source": [
        "cols = cats+conts\n",
        "{o:min_col(trn_df, o) for o in cols}"
      ],
      "metadata": {
        "colab": {
          "base_uri": "https://localhost:8080/"
        },
        "id": "YkYecnRLf7bF",
        "outputId": "abe5d676-484e-4114-a404-b5ebbf013fa8"
      },
      "execution_count": 32,
      "outputs": [
        {
          "output_type": "execute_result",
          "data": {
            "text/plain": [
              "{'Sex': (0, 0.40787530982063946),\n",
              " 'Embarked': (0, 0.47883342573147836),\n",
              " 'Age': (6.0, 0.478316717508991),\n",
              " 'SibSp': (4, 0.4783740258817434),\n",
              " 'Parch': (0, 0.4805296527841601),\n",
              " 'LogFare': (2.4390808375825834, 0.4620823937736597),\n",
              " 'Pclass': (2, 0.46048261885806596)}"
            ]
          },
          "metadata": {},
          "execution_count": 32
        }
      ]
    },
    {
      "cell_type": "markdown",
      "source": [
        "so what we created so far is OneR classifier. lets use it in order to create Desicion tree with several nodes. so we found that `Sex` is the best feature to split our data first. then our Data is split to `male` and `female`, now each group we need to find the best feature to split the group by:"
      ],
      "metadata": {
        "id": "YMcoaYPxjLRz"
      }
    },
    {
      "cell_type": "code",
      "source": [
        "cols.remove(\"Sex\")\n",
        "ismale = trn_df.Sex==1\n",
        "males,females = trn_df[ismale],trn_df[~ismale]"
      ],
      "metadata": {
        "id": "CLaCQLJVj_kI"
      },
      "execution_count": 33,
      "outputs": []
    },
    {
      "cell_type": "markdown",
      "source": [
        "find the best feature to split the `male` group:"
      ],
      "metadata": {
        "id": "WyUzyKGtkDgg"
      }
    },
    {
      "cell_type": "code",
      "source": [
        "{o:min_col(males, o) for o in cols}"
      ],
      "metadata": {
        "colab": {
          "base_uri": "https://localhost:8080/"
        },
        "id": "ZhqnysrHkHMj",
        "outputId": "2da08934-dadd-41a0-cb25-10e07b39f902"
      },
      "execution_count": 34,
      "outputs": [
        {
          "output_type": "execute_result",
          "data": {
            "text/plain": [
              "{'Embarked': (0, 0.3875581870410906),\n",
              " 'Age': (6.0, 0.3739828371010595),\n",
              " 'SibSp': (4, 0.3875864227586273),\n",
              " 'Parch': (0, 0.3874704821461959),\n",
              " 'LogFare': (2.803360380906535, 0.3804856231758151),\n",
              " 'Pclass': (1, 0.38155442004360934)}"
            ]
          },
          "metadata": {},
          "execution_count": 34
        }
      ]
    },
    {
      "cell_type": "markdown",
      "source": [
        "we can see that `age>=6` is the best way to split the `male` group.\n",
        "find the best feature to split the `female` group:"
      ],
      "metadata": {
        "id": "JSw7gCLPkKQr"
      }
    },
    {
      "cell_type": "code",
      "source": [
        "{o:min_col(females, o) for o in cols}"
      ],
      "metadata": {
        "colab": {
          "base_uri": "https://localhost:8080/"
        },
        "id": "A7NlMbI2kbLT",
        "outputId": "47d8a728-0b40-49a8-b29b-14e923d99880"
      },
      "execution_count": 36,
      "outputs": [
        {
          "output_type": "execute_result",
          "data": {
            "text/plain": [
              "{'Embarked': (0, 0.4295252982857327),\n",
              " 'Age': (50.0, 0.4225927658431649),\n",
              " 'SibSp': (4, 0.42319212059713535),\n",
              " 'Parch': (3, 0.4193314500446158),\n",
              " 'LogFare': (4.256321678298823, 0.41350598332911376),\n",
              " 'Pclass': (2, 0.3335388911567601)}"
            ]
          },
          "metadata": {},
          "execution_count": 36
        }
      ]
    },
    {
      "cell_type": "markdown",
      "source": [
        "## Decision Tree"
      ],
      "metadata": {
        "id": "8SLeSLazqde5"
      }
    },
    {
      "cell_type": "markdown",
      "source": [
        "we found that `Pclass` is the best feature to split the `female` group by. now we need to continue this process to the groups we created. we can use `DecisionTreeClassifier` library that will do all this process for us now the we understand the underlaying math behind Decision Trees."
      ],
      "metadata": {
        "id": "Lj2tZoq5kfju"
      }
    },
    {
      "cell_type": "code",
      "source": [
        "from sklearn.tree import DecisionTreeClassifier, export_graphviz\n",
        "\n",
        "m = DecisionTreeClassifier(max_leaf_nodes=4).fit(trn_xs, trn_y);"
      ],
      "metadata": {
        "id": "g3ce90RKlUG7"
      },
      "execution_count": 37,
      "outputs": []
    },
    {
      "cell_type": "markdown",
      "source": [
        "lets visualize the tree we created:"
      ],
      "metadata": {
        "id": "f5IM-H3oqSs5"
      }
    },
    {
      "cell_type": "code",
      "source": [
        "import graphviz\n",
        "\n",
        "def draw_tree(t, df, size=10, ratio=0.6, precision=2, **kwargs):\n",
        "    s=export_graphviz(t, out_file=None, feature_names=df.columns, filled=True, rounded=True,\n",
        "                      special_characters=True, rotate=False, precision=precision, **kwargs)\n",
        "    return graphviz.Source(re.sub('Tree {', f'Tree {{ size={size}; ratio={ratio}', s))\n",
        "\n",
        "\n",
        "draw_tree(m, trn_xs, size=10)"
      ],
      "metadata": {
        "colab": {
          "base_uri": "https://localhost:8080/",
          "height": 430
        },
        "id": "Xo2aqhp5l0C3",
        "outputId": "6290541d-a76e-498a-b073-6b914d10a11d"
      },
      "execution_count": 38,
      "outputs": [
        {
          "output_type": "execute_result",
          "data": {
            "image/svg+xml": "<?xml version=\"1.0\" encoding=\"UTF-8\" standalone=\"no\"?>\n<!DOCTYPE svg PUBLIC \"-//W3C//DTD SVG 1.1//EN\"\n \"http://www.w3.org/Graphics/SVG/1.1/DTD/svg11.dtd\">\n<!-- Generated by graphviz version 2.43.0 (0)\n -->\n<!-- Title: Tree Pages: 1 -->\n<svg width=\"507pt\" height=\"307pt\"\n viewBox=\"0.00 0.00 506.50 306.80\" xmlns=\"http://www.w3.org/2000/svg\" xmlns:xlink=\"http://www.w3.org/1999/xlink\">\n<g id=\"graph0\" class=\"graph\" transform=\"scale(1 1) rotate(0) translate(4 302.8)\">\n<title>Tree</title>\n<polygon fill=\"white\" stroke=\"transparent\" points=\"-4,4 -4,-302.8 502.5,-302.8 502.5,4 -4,4\"/>\n<!-- 0 -->\n<g id=\"node1\" class=\"node\">\n<title>0</title>\n<path fill=\"#f5ceb2\" stroke=\"black\" d=\"M297.5,-294C297.5,-294 196.5,-294 196.5,-294 190.5,-294 184.5,-288 184.5,-282 184.5,-282 184.5,-238 184.5,-238 184.5,-232 190.5,-226 196.5,-226 196.5,-226 297.5,-226 297.5,-226 303.5,-226 309.5,-232 309.5,-238 309.5,-238 309.5,-282 309.5,-282 309.5,-288 303.5,-294 297.5,-294\"/>\n<text text-anchor=\"start\" x=\"218\" y=\"-278.8\" font-family=\"Helvetica,sans-Serif\" font-size=\"14.00\">Sex ≤ 0.5</text>\n<text text-anchor=\"start\" x=\"215\" y=\"-263.8\" font-family=\"Helvetica,sans-Serif\" font-size=\"14.00\">gini = 0.47</text>\n<text text-anchor=\"start\" x=\"202\" y=\"-248.8\" font-family=\"Helvetica,sans-Serif\" font-size=\"14.00\">samples = 668</text>\n<text text-anchor=\"start\" x=\"192.5\" y=\"-233.8\" font-family=\"Helvetica,sans-Serif\" font-size=\"14.00\">value = [415, 253]</text>\n</g>\n<!-- 1 -->\n<g id=\"node2\" class=\"node\">\n<title>1</title>\n<path fill=\"#7ebfee\" stroke=\"black\" d=\"M226.5,-175C226.5,-175 133.5,-175 133.5,-175 127.5,-175 121.5,-169 121.5,-163 121.5,-163 121.5,-119 121.5,-119 121.5,-113 127.5,-107 133.5,-107 133.5,-107 226.5,-107 226.5,-107 232.5,-107 238.5,-113 238.5,-119 238.5,-119 238.5,-163 238.5,-163 238.5,-169 232.5,-175 226.5,-175\"/>\n<text text-anchor=\"start\" x=\"143\" y=\"-159.8\" font-family=\"Helvetica,sans-Serif\" font-size=\"14.00\">Pclass ≤ 2.5</text>\n<text text-anchor=\"start\" x=\"148\" y=\"-144.8\" font-family=\"Helvetica,sans-Serif\" font-size=\"14.00\">gini = 0.38</text>\n<text text-anchor=\"start\" x=\"135\" y=\"-129.8\" font-family=\"Helvetica,sans-Serif\" font-size=\"14.00\">samples = 229</text>\n<text text-anchor=\"start\" x=\"129.5\" y=\"-114.8\" font-family=\"Helvetica,sans-Serif\" font-size=\"14.00\">value = [59, 170]</text>\n</g>\n<!-- 0&#45;&gt;1 -->\n<g id=\"edge1\" class=\"edge\">\n<title>0&#45;&gt;1</title>\n<path fill=\"none\" stroke=\"black\" d=\"M227.98,-225.79C220.55,-212.82 211.95,-197.8 204.1,-184.08\"/>\n<polygon fill=\"black\" stroke=\"black\" points=\"207.07,-182.24 199.07,-175.3 201,-185.71 207.07,-182.24\"/>\n<text text-anchor=\"middle\" x=\"192.51\" y=\"-195.72\" font-family=\"Helvetica,sans-Serif\" font-size=\"14.00\">True</text>\n</g>\n<!-- 2 -->\n<g id=\"node5\" class=\"node\">\n<title>2</title>\n<path fill=\"#eb9e67\" stroke=\"black\" d=\"M361.5,-175C361.5,-175 268.5,-175 268.5,-175 262.5,-175 256.5,-169 256.5,-163 256.5,-163 256.5,-119 256.5,-119 256.5,-113 262.5,-107 268.5,-107 268.5,-107 361.5,-107 361.5,-107 367.5,-107 373.5,-113 373.5,-119 373.5,-119 373.5,-163 373.5,-163 373.5,-169 367.5,-175 361.5,-175\"/>\n<text text-anchor=\"start\" x=\"286\" y=\"-159.8\" font-family=\"Helvetica,sans-Serif\" font-size=\"14.00\">Age ≤ 6.5</text>\n<text text-anchor=\"start\" x=\"283\" y=\"-144.8\" font-family=\"Helvetica,sans-Serif\" font-size=\"14.00\">gini = 0.31</text>\n<text text-anchor=\"start\" x=\"270\" y=\"-129.8\" font-family=\"Helvetica,sans-Serif\" font-size=\"14.00\">samples = 439</text>\n<text text-anchor=\"start\" x=\"264.5\" y=\"-114.8\" font-family=\"Helvetica,sans-Serif\" font-size=\"14.00\">value = [356, 83]</text>\n</g>\n<!-- 0&#45;&gt;2 -->\n<g id=\"edge4\" class=\"edge\">\n<title>0&#45;&gt;2</title>\n<path fill=\"none\" stroke=\"black\" d=\"M266.3,-225.79C273.84,-212.82 282.57,-197.8 290.54,-184.08\"/>\n<polygon fill=\"black\" stroke=\"black\" points=\"293.65,-185.7 295.65,-175.3 287.6,-182.18 293.65,-185.7\"/>\n<text text-anchor=\"middle\" x=\"302.05\" y=\"-195.76\" font-family=\"Helvetica,sans-Serif\" font-size=\"14.00\">False</text>\n</g>\n<!-- 3 -->\n<g id=\"node3\" class=\"node\">\n<title>3</title>\n<path fill=\"#40a0e6\" stroke=\"black\" d=\"M98,-56.5C98,-56.5 12,-56.5 12,-56.5 6,-56.5 0,-50.5 0,-44.5 0,-44.5 0,-15.5 0,-15.5 0,-9.5 6,-3.5 12,-3.5 12,-3.5 98,-3.5 98,-3.5 104,-3.5 110,-9.5 110,-15.5 110,-15.5 110,-44.5 110,-44.5 110,-50.5 104,-56.5 98,-56.5\"/>\n<text text-anchor=\"start\" x=\"23\" y=\"-41.3\" font-family=\"Helvetica,sans-Serif\" font-size=\"14.00\">gini = 0.06</text>\n<text text-anchor=\"start\" x=\"10\" y=\"-26.3\" font-family=\"Helvetica,sans-Serif\" font-size=\"14.00\">samples = 120</text>\n<text text-anchor=\"start\" x=\"8\" y=\"-11.3\" font-family=\"Helvetica,sans-Serif\" font-size=\"14.00\">value = [4, 116]</text>\n</g>\n<!-- 1&#45;&gt;3 -->\n<g id=\"edge2\" class=\"edge\">\n<title>1&#45;&gt;3</title>\n<path fill=\"none\" stroke=\"black\" d=\"M141.82,-106.7C126.16,-93.06 108.1,-77.31 92.52,-63.72\"/>\n<polygon fill=\"black\" stroke=\"black\" points=\"94.46,-60.77 84.62,-56.83 89.86,-66.04 94.46,-60.77\"/>\n</g>\n<!-- 4 -->\n<g id=\"node4\" class=\"node\">\n<title>4</title>\n<path fill=\"#fffdfb\" stroke=\"black\" d=\"M226,-56.5C226,-56.5 140,-56.5 140,-56.5 134,-56.5 128,-50.5 128,-44.5 128,-44.5 128,-15.5 128,-15.5 128,-9.5 134,-3.5 140,-3.5 140,-3.5 226,-3.5 226,-3.5 232,-3.5 238,-9.5 238,-15.5 238,-15.5 238,-44.5 238,-44.5 238,-50.5 232,-56.5 226,-56.5\"/>\n<text text-anchor=\"start\" x=\"155\" y=\"-41.3\" font-family=\"Helvetica,sans-Serif\" font-size=\"14.00\">gini = 0.5</text>\n<text text-anchor=\"start\" x=\"138\" y=\"-26.3\" font-family=\"Helvetica,sans-Serif\" font-size=\"14.00\">samples = 109</text>\n<text text-anchor=\"start\" x=\"136\" y=\"-11.3\" font-family=\"Helvetica,sans-Serif\" font-size=\"14.00\">value = [55, 54]</text>\n</g>\n<!-- 1&#45;&gt;4 -->\n<g id=\"edge3\" class=\"edge\">\n<title>1&#45;&gt;4</title>\n<path fill=\"none\" stroke=\"black\" d=\"M180.92,-106.7C181.26,-94.18 181.65,-79.89 182.01,-67.13\"/>\n<polygon fill=\"black\" stroke=\"black\" points=\"185.51,-66.92 182.29,-56.83 178.52,-66.73 185.51,-66.92\"/>\n</g>\n<!-- 5 -->\n<g id=\"node6\" class=\"node\">\n<title>5</title>\n<path fill=\"#88c4ef\" stroke=\"black\" d=\"M351,-56.5C351,-56.5 273,-56.5 273,-56.5 267,-56.5 261,-50.5 261,-44.5 261,-44.5 261,-15.5 261,-15.5 261,-9.5 267,-3.5 273,-3.5 273,-3.5 351,-3.5 351,-3.5 357,-3.5 363,-9.5 363,-15.5 363,-15.5 363,-44.5 363,-44.5 363,-50.5 357,-56.5 351,-56.5\"/>\n<text text-anchor=\"start\" x=\"280\" y=\"-41.3\" font-family=\"Helvetica,sans-Serif\" font-size=\"14.00\">gini = 0.41</text>\n<text text-anchor=\"start\" x=\"271\" y=\"-26.3\" font-family=\"Helvetica,sans-Serif\" font-size=\"14.00\">samples = 21</text>\n<text text-anchor=\"start\" x=\"269\" y=\"-11.3\" font-family=\"Helvetica,sans-Serif\" font-size=\"14.00\">value = [6, 15]</text>\n</g>\n<!-- 2&#45;&gt;5 -->\n<g id=\"edge5\" class=\"edge\">\n<title>2&#45;&gt;5</title>\n<path fill=\"none\" stroke=\"black\" d=\"M314.08,-106.7C313.74,-94.18 313.35,-79.89 312.99,-67.13\"/>\n<polygon fill=\"black\" stroke=\"black\" points=\"316.48,-66.73 312.71,-56.83 309.49,-66.92 316.48,-66.73\"/>\n</g>\n<!-- 6 -->\n<g id=\"node7\" class=\"node\">\n<title>6</title>\n<path fill=\"#ea995f\" stroke=\"black\" d=\"M486.5,-56.5C486.5,-56.5 393.5,-56.5 393.5,-56.5 387.5,-56.5 381.5,-50.5 381.5,-44.5 381.5,-44.5 381.5,-15.5 381.5,-15.5 381.5,-9.5 387.5,-3.5 393.5,-3.5 393.5,-3.5 486.5,-3.5 486.5,-3.5 492.5,-3.5 498.5,-9.5 498.5,-15.5 498.5,-15.5 498.5,-44.5 498.5,-44.5 498.5,-50.5 492.5,-56.5 486.5,-56.5\"/>\n<text text-anchor=\"start\" x=\"408\" y=\"-41.3\" font-family=\"Helvetica,sans-Serif\" font-size=\"14.00\">gini = 0.27</text>\n<text text-anchor=\"start\" x=\"395\" y=\"-26.3\" font-family=\"Helvetica,sans-Serif\" font-size=\"14.00\">samples = 418</text>\n<text text-anchor=\"start\" x=\"389.5\" y=\"-11.3\" font-family=\"Helvetica,sans-Serif\" font-size=\"14.00\">value = [350, 68]</text>\n</g>\n<!-- 2&#45;&gt;6 -->\n<g id=\"edge6\" class=\"edge\">\n<title>2&#45;&gt;6</title>\n<path fill=\"none\" stroke=\"black\" d=\"M353.18,-106.7C368.84,-93.06 386.9,-77.31 402.48,-63.72\"/>\n<polygon fill=\"black\" stroke=\"black\" points=\"405.14,-66.04 410.38,-56.83 400.54,-60.77 405.14,-66.04\"/>\n</g>\n</g>\n</svg>\n",
            "text/plain": [
              "<graphviz.sources.Source at 0x7c34ac890ac0>"
            ]
          },
          "metadata": {},
          "execution_count": 38
        }
      ]
    },
    {
      "cell_type": "markdown",
      "source": [
        "## Random Forest Tree"
      ],
      "metadata": {
        "id": "sWBVE1yLqWG7"
      }
    },
    {
      "cell_type": "markdown",
      "source": [
        "Random Forests tree is way of creating several Decision trees that each inculde a subset of the data and can take in consideration only a subset of the independent features. the prediction of random forest tree is the average prediction of all the forest.\n",
        "lets create function that creates a  decision tree of a subset of the data:"
      ],
      "metadata": {
        "id": "eiP5g5Avqh7L"
      }
    },
    {
      "cell_type": "code",
      "source": [
        "def get_tree(prop=0.75):\n",
        "    n = len(trn_y)\n",
        "    idxs = random.choice(n, int(n*prop))\n",
        "    return DecisionTreeClassifier(min_samples_leaf=5).fit(trn_xs.iloc[idxs], trn_y.iloc[idxs])"
      ],
      "metadata": {
        "id": "miv6WPxnrAgk"
      },
      "execution_count": 41,
      "outputs": []
    },
    {
      "cell_type": "markdown",
      "source": [
        "lets create a forest of 100 decision trees:"
      ],
      "metadata": {
        "id": "4dWRUFb2rEmn"
      }
    },
    {
      "cell_type": "code",
      "source": [
        "trees = [get_tree() for t in range(100)]"
      ],
      "metadata": {
        "id": "ICiaZT0NrKmV"
      },
      "execution_count": 42,
      "outputs": []
    },
    {
      "cell_type": "markdown",
      "source": [
        "lets predict using the forest we created:"
      ],
      "metadata": {
        "id": "yFe0W5JErdAu"
      }
    },
    {
      "cell_type": "code",
      "source": [
        "from sklearn.metrics import mean_absolute_error\n",
        "\n",
        "all_probs = [t.predict(val_xs) for t in trees]\n",
        "avg_probs = np.stack(all_probs).mean(0)\n",
        "mean_absolute_error(val_y, avg_probs)"
      ],
      "metadata": {
        "colab": {
          "base_uri": "https://localhost:8080/"
        },
        "id": "G-M4roAUrgD6",
        "outputId": "1d1d6f9c-2210-42b2-fc17-129ec70cbbf8"
      },
      "execution_count": 47,
      "outputs": [
        {
          "output_type": "execute_result",
          "data": {
            "text/plain": [
              "0.22726457399103137"
            ]
          },
          "metadata": {},
          "execution_count": 47
        }
      ]
    },
    {
      "cell_type": "markdown",
      "source": [
        "in our scratch model we didn't select a subset of features columns to be measured by each tree. `RandomForestClassifier` can do it for us:"
      ],
      "metadata": {
        "id": "aZqOZ_bpsAsZ"
      }
    },
    {
      "cell_type": "code",
      "source": [
        "from sklearn.ensemble import RandomForestClassifier\n",
        "\n",
        "rf = RandomForestClassifier(100, min_samples_leaf=5)\n",
        "rf.fit(trn_xs, trn_y);\n",
        "mean_absolute_error(val_y, rf.predict(val_xs))"
      ],
      "metadata": {
        "colab": {
          "base_uri": "https://localhost:8080/"
        },
        "id": "aQ6SsheQsrTm",
        "outputId": "4165bfd4-d4fb-48db-e8bb-b533bbd2df7d"
      },
      "execution_count": 48,
      "outputs": [
        {
          "output_type": "execute_result",
          "data": {
            "text/plain": [
              "0.18834080717488788"
            ]
          },
          "metadata": {},
          "execution_count": 48
        }
      ]
    },
    {
      "cell_type": "markdown",
      "source": [
        "we can see the improvement when we randomise the subset of the feature columns."
      ],
      "metadata": {
        "id": "y0S14fnastvd"
      }
    }
  ]
}